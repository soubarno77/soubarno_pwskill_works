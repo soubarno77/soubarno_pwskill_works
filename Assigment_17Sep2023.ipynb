{
 "cells": [
  {
   "cell_type": "code",
   "execution_count": null,
   "id": "f5db574d-054a-4c4c-ae66-703461c48cea",
   "metadata": {},
   "outputs": [],
   "source": [
    "# ---------------- FOR LOOP EXERCISE --------------------------------"
   ]
  },
  {
   "cell_type": "code",
   "execution_count": 1,
   "id": "93a27618-cedb-4e95-992e-5a54f34dba32",
   "metadata": {},
   "outputs": [],
   "source": [
    "# Problem 1 - Print number using for loop"
   ]
  },
  {
   "cell_type": "code",
   "execution_count": null,
   "id": "67486150-3710-4d62-a03c-b986f01a9c34",
   "metadata": {},
   "outputs": [],
   "source": [
    "for num in range(1, 11):\n",
    "    # Printing numbers in comma separated fashion, only not printing comma after the last number\n",
    "    print(num) if num == 10 else print(num,end=\",\")"
   ]
  },
  {
   "cell_type": "code",
   "execution_count": 5,
   "id": "c155a73c-3fcc-4f1c-a2d9-1ee8b3709f0d",
   "metadata": {},
   "outputs": [],
   "source": [
    "# Problem 2 - Difference b/w for and while loop"
   ]
  },
  {
   "cell_type": "code",
   "execution_count": null,
   "id": "6fd8208a-7367-44f2-b734-936bd1083419",
   "metadata": {},
   "outputs": [],
   "source": [
    "\"\"\"\n",
    "- In Python, for loops and while loops are both used for iteration, but they have different structures and use cases:\n",
    "\n",
    "- For Loop:\n",
    "\n",
    "    1) A for loop is used for iterating over a sequence (such as a list, tuple, string, or range) or other iterable objects.\n",
    "    2) It has a predetermined number of iterations, often based on the length of the sequence.\n",
    "    3) You specify the range of values to iterate over at the beginning, and the loop continues until it has iterated over all the elements in the sequence.\n",
    "    4) The loop variable is automatically assigned values from the sequence during each iteration.\n",
    "    f5) or loops are generally used when you know the number of iterations in advance.\n",
    "\n",
    "- While loop:\n",
    "\n",
    "    1) A while loop is used for executing a set of statements as long as a given condition is true.\n",
    "\n",
    "    2) It has a more dynamic control structure because it depends on the truth or falsity of a condition \n",
    "       to determine when to stop.\n",
    "    3) The condition is checked before each iteration, and if it evaluates to False, the loop terminates.\n",
    "\n",
    "    4) You need to manually update the loop control variable within the loop to ensure that the condition \n",
    "        eventually becomes False.\n",
    "    5) while loops are generally used when the number of iterations is not known in advance, \n",
    "    and the loop continues until a certain condition is met or becomes False.\n",
    "\n",
    "\"\"\""
   ]
  },
  {
   "cell_type": "code",
   "execution_count": 6,
   "id": "058bcdbb-a967-4c0b-8713-b3e104984f20",
   "metadata": {},
   "outputs": [],
   "source": [
    "# Problem 3 - Sum of numbers 1-100 using for loop"
   ]
  },
  {
   "cell_type": "code",
   "execution_count": null,
   "id": "9d495343-0bfb-4c7f-8ffc-04c56d93562b",
   "metadata": {},
   "outputs": [],
   "source": [
    "# Initialize a variable to store the sum\n",
    "total_sum = 0\n",
    "\n",
    "# Use a for loop to iterate from 1 to 100\n",
    "for number in range(1, 101):\n",
    "    total_sum += number\n",
    "\n",
    "# Print the result\n",
    "print(\"The sum of numbers from 1 to 100 is:\", total_sum)"
   ]
  },
  {
   "cell_type": "code",
   "execution_count": 8,
   "id": "2a18713d-aab4-4fb5-9d4a-308e478041d9",
   "metadata": {},
   "outputs": [],
   "source": [
    "# Problem 4 - Iterate through list in python"
   ]
  },
  {
   "cell_type": "code",
   "execution_count": null,
   "id": "1f676ccc-d74d-4c80-9313-8488ce277fb3",
   "metadata": {},
   "outputs": [],
   "source": [
    "\"\"\"\n",
    "- In Python, you can iterate through a list using a for loop by specifying the list as the iterable object. \n",
    "- Here's the basic syntax for iterating through a list:\n",
    "\"\"\"\n",
    "\n",
    "my_list = [item1, item2, item3, ...]\n",
    "\n",
    "for element in my_list:\n",
    "    # Code to be executed for each element in the list\n",
    "\n",
    "# Here's an example of how to iterate through a list:\n",
    "\n",
    "fruits = [\"apple\", \"banana\", \"cherry\", \"date\"]\n",
    "\n",
    "for fruit in fruits:\n",
    "    print(fruit)"
   ]
  },
  {
   "cell_type": "code",
   "execution_count": 9,
   "id": "ace0d609-892d-4dc1-bcce-cccc730625d9",
   "metadata": {},
   "outputs": [],
   "source": [
    "# Problem 5 - Product of all elements in list"
   ]
  },
  {
   "cell_type": "code",
   "execution_count": null,
   "id": "547dc81c-9e48-4e6e-b414-7208109c0eeb",
   "metadata": {},
   "outputs": [],
   "source": [
    "# Sample list of numbers\n",
    "number_list = [2, 3, 5, 7, 11]\n",
    "\n",
    "# Initialize a variable to store the product (start with 1)\n",
    "product = 1\n",
    "\n",
    "# Iterate through the list and calculate the product\n",
    "for number in number_list:\n",
    "    product *= number\n",
    "\n",
    "# Print the result\n",
    "print(\"The product of all elements in the list is:\", product)"
   ]
  },
  {
   "cell_type": "code",
   "execution_count": 10,
   "id": "34a25976-44f1-43c8-b082-69a4508e2bf6",
   "metadata": {},
   "outputs": [],
   "source": [
    "# Problem 6 - Print even numbers from 1-20"
   ]
  },
  {
   "cell_type": "code",
   "execution_count": null,
   "id": "de595d88-76e3-44a1-82e7-b564ba74a5e9",
   "metadata": {},
   "outputs": [],
   "source": [
    "# Use a for loop to iterate from 1 to 20\n",
    "for number in range(1, 21):\n",
    "    # Check if the number is even\n",
    "    if number % 2 == 0:\n",
    "        print(number)"
   ]
  },
  {
   "cell_type": "code",
   "execution_count": 12,
   "id": "1d942b17-7f46-4b73-8b39-e9bcd48813f4",
   "metadata": {},
   "outputs": [],
   "source": [
    "# Problem 7 - Calculating factorial using 'for' loops"
   ]
  },
  {
   "cell_type": "code",
   "execution_count": null,
   "id": "943d5a22-1863-424d-8b86-482ea242f5a4",
   "metadata": {},
   "outputs": [],
   "source": [
    "# Input: Get the number from the user\n",
    "num = int(input(\"Enter a number: \"))\n",
    "\n",
    "# Initialize a variable to store the factorial (start with 1)\n",
    "factorial = 1\n",
    "\n",
    "# Check if the number is negative\n",
    "if num < 0:\n",
    "    print(\"Factorial is not defined for negative numbers.\")\n",
    "elif num == 0:\n",
    "    print(\"The factorial of 0 is 1.\")\n",
    "else:\n",
    "    # Use a for loop to calculate the factorial\n",
    "    for i in range(1, num + 1):\n",
    "        factorial *= i\n",
    "\n",
    "    # Print the result\n",
    "    print(f\"The factorial of {num} is {factorial}\")"
   ]
  },
  {
   "cell_type": "code",
   "execution_count": 14,
   "id": "28488f82-27f3-4781-b65d-877bfb442185",
   "metadata": {},
   "outputs": [],
   "source": [
    "# Problem 8 - Iterating through characters in string"
   ]
  },
  {
   "cell_type": "code",
   "execution_count": null,
   "id": "5a8b2718-6ebe-4e55-9473-9002d73e889d",
   "metadata": {},
   "outputs": [],
   "source": [
    "my_string = \"Hello, World!\"\n",
    "\n",
    "for char in my_string:\n",
    "    print(char)"
   ]
  },
  {
   "cell_type": "code",
   "execution_count": null,
   "id": "113d2923-79c4-4ead-bdae-739b220d58c8",
   "metadata": {},
   "outputs": [],
   "source": [
    "# Problem 9 - Largest num in list"
   ]
  },
  {
   "cell_type": "code",
   "execution_count": null,
   "id": "ed932d16-33b4-42ec-acdf-b978f153382a",
   "metadata": {},
   "outputs": [],
   "source": [
    "# Sample list of numbers\n",
    "number_list = [12, 45, 23, 67, 8, 90, 34, 56]\n",
    "\n",
    "# Initialize a variable to store the largest number (start with the first element)\n",
    "largest = number_list[0]\n",
    "\n",
    "# Use a for loop to find the largest number\n",
    "for number in number_list:\n",
    "    if number > largest:\n",
    "        largest = number\n",
    "\n",
    "# Print the result\n",
    "print(\"The largest number in the list is:\", largest)"
   ]
  },
  {
   "cell_type": "code",
   "execution_count": null,
   "id": "aebf7697-2972-46aa-9b8d-976cf3647943",
   "metadata": {},
   "outputs": [],
   "source": [
    "# Problem 10 - Fibonacci using for loop"
   ]
  },
  {
   "cell_type": "code",
   "execution_count": null,
   "id": "cf779d03-15f1-4c74-9ff9-66a9377c3ada",
   "metadata": {},
   "outputs": [],
   "source": [
    "# Function to generate and print the Fibonacci sequence up to a specified limit\n",
    "def fibonacci(limit):\n",
    "    # Initialize the first two Fibonacci numbers\n",
    "    a, b = 0, 1\n",
    "\n",
    "    # Print the first two numbers\n",
    "    print(a)\n",
    "    print(b)\n",
    "\n",
    "    # Use a for loop to generate and print the sequence\n",
    "    for _ in range(2, limit):\n",
    "        # Calculate the next Fibonacci number\n",
    "        c = a + b\n",
    "\n",
    "        # Print the next number\n",
    "        print(c)\n",
    "\n",
    "        # Update a and b for the next iteration\n",
    "        a, b = b, c\n",
    "\n",
    "# Get the user's input for the limit\n",
    "limit = int(input(\"Enter the limit for the Fibonacci sequence: \"))\n",
    "\n",
    "# Check if the limit is valid\n",
    "if limit < 2:\n",
    "    print(\"Please enter a limit of 2 or greater.\")\n",
    "else:\n",
    "    # Call the Fibonacci function\n",
    "    fibonacci(limit)"
   ]
  },
  {
   "cell_type": "code",
   "execution_count": null,
   "id": "43e0b935-6613-4a77-a7d9-2854a54837d5",
   "metadata": {},
   "outputs": [],
   "source": [
    "# Problem 11 - Counting vowels using for loop"
   ]
  },
  {
   "cell_type": "code",
   "execution_count": null,
   "id": "631c6659-d130-4cf6-bbe1-055d8f671f1a",
   "metadata": {},
   "outputs": [],
   "source": [
    "# Input: Get the string from the user\n",
    "user_input = input(\"Enter a string: \")\n",
    "\n",
    "# Convert the input string to lowercase to make it case-insensitive\n",
    "user_input = user_input.lower()\n",
    "\n",
    "# Initialize a variable to store the count of vowels\n",
    "vowel_count = 0\n",
    "\n",
    "# Define a list of vowels\n",
    "vowels = ['a', 'e', 'i', 'o', 'u']\n",
    "\n",
    "# Use a for loop to count the vowels in the string\n",
    "for char in user_input:\n",
    "    if char in vowels:\n",
    "        vowel_count += 1\n",
    "\n",
    "# Print the result\n",
    "print(\"The number of vowels in the string is:\", vowel_count)"
   ]
  },
  {
   "cell_type": "code",
   "execution_count": null,
   "id": "3156b4cd-f46e-491c-be89-f215f65ce157",
   "metadata": {},
   "outputs": [],
   "source": [
    "# Problem 12 - Multiplication table using for loop"
   ]
  },
  {
   "cell_type": "code",
   "execution_count": null,
   "id": "4f2394ec-c8cd-42ce-bc63-37e6bcdeb775",
   "metadata": {},
   "outputs": [],
   "source": [
    "# Input: Get the number for which you want to generate the multiplication table\n",
    "number = int(input(\"Enter a number: \"))\n",
    "\n",
    "# Input: Get the number of rows for the multiplication table\n",
    "rows = int(input(\"Enter the number of rows in the table: \"))\n",
    "\n",
    "# Generate the multiplication table\n",
    "print(f\"Multiplication Table for {number} up to {rows} rows:\")\n",
    "for i in range(1, rows + 1):\n",
    "    result = number * i\n",
    "    print(f\"{number} x {i} = {result}\")"
   ]
  },
  {
   "cell_type": "code",
   "execution_count": 2,
   "id": "ac01e48a-1ad8-4761-839d-418952dee470",
   "metadata": {},
   "outputs": [],
   "source": [
    "# Problem 13 - Reverse list using for loop"
   ]
  },
  {
   "cell_type": "code",
   "execution_count": null,
   "id": "230005a8-57c1-4ed6-bce9-c80adf9ee228",
   "metadata": {},
   "outputs": [],
   "source": [
    "# Original list\n",
    "original_list = [1, 2, 3, 4, 5]\n",
    "\n",
    "# Initialize an empty list to store the reversed elements\n",
    "reversed_list = []\n",
    "\n",
    "# Use a for loop to reverse the list\n",
    "for item in original_list[::-1]:\n",
    "    reversed_list.append(item)\n",
    "\n",
    "# Print the reversed list\n",
    "print(\"Original List:\", original_list)\n",
    "print(\"Reversed List:\", reversed_list)"
   ]
  },
  {
   "cell_type": "code",
   "execution_count": 3,
   "id": "f342327d-2037-437c-9c15-293d01c9f082",
   "metadata": {},
   "outputs": [],
   "source": [
    "# Problem 14 - Common elements between two lists"
   ]
  },
  {
   "cell_type": "code",
   "execution_count": null,
   "id": "eb132f66-e3b0-4102-ae3c-6d8022689505",
   "metadata": {},
   "outputs": [],
   "source": [
    "# Define two sample lists\n",
    "list1 = [1, 2, 3, 4, 5]\n",
    "list2 = [3, 4, 5, 6, 7]\n",
    "\n",
    "# Initialize an empty list to store the common elements\n",
    "common_elements = []\n",
    "\n",
    "# Use a for loop to find the common elements\n",
    "for item1 in list1:\n",
    "    for item2 in list2:\n",
    "        if item1 == item2:\n",
    "            common_elements.append(item1)\n",
    "\n",
    "# Print the common elements\n",
    "print(\"List 1:\", list1)\n",
    "print(\"List 2:\", list2)\n",
    "print(\"Common Elements:\", common_elements)"
   ]
  },
  {
   "cell_type": "code",
   "execution_count": 5,
   "id": "ff5dc8c5-cb5a-4540-aeed-832bfe6aac8c",
   "metadata": {},
   "outputs": [],
   "source": [
    "# Problem 15 - Dictionary iteration explanation in Python"
   ]
  },
  {
   "cell_type": "code",
   "execution_count": null,
   "id": "7d5689f2-4f89-4f2c-ba4f-39b1972e0056",
   "metadata": {},
   "outputs": [],
   "source": [
    "\"\"\"\n",
    "- In Python, we can use a for loop to iterate through the keys and values of a dictionary using various methods. \n",
    "- Here are two common approaches:\n",
    "\n",
    "1) Iterating Through Keys and Using Keys to Access Values:\n",
    "\n",
    "    - In this approach, we iterate through the keys of the dictionary and use each key to access its corresponding value. \n",
    "    - We can use the .keys() method (which is the default behavior) or explicitly call the .keys() method.\n",
    "\"\"\"\n",
    "\n",
    "my_dict = {'a': 1, 'b': 2, 'c': 3}\n",
    "\n",
    "# Using the default behavior (iterating through keys)\n",
    "print(\"Using default behavior\")\n",
    "for key in my_dict:\n",
    "    value = my_dict[key]\n",
    "    print(f\"Key: {key}, Value: {value}\")\n",
    "\n",
    "print(\"\\n\\nUsing keys() function\")\n",
    "# Using .keys() method explicitly\n",
    "for key in my_dict.keys():\n",
    "    value = my_dict[key]\n",
    "    print(f\"Key: {key}, Value: {value}\")\n",
    "    \n",
    "\"\"\"\n",
    "- Iterating Through Key-Value Pairs with .items():\n",
    "\n",
    "1) We can also use the .items() method to directly iterate through key-value pairs in the dictionary. \n",
    "2) This method is more efficient because it doesn't require a separate lookup for the values.\n",
    "\n",
    "\"\"\"\n",
    "\n",
    "print(\"\\n\\nUsing items() function\")\n",
    "my_dict = {'a': 1, 'b': 2, 'c': 3}\n",
    "\n",
    "# Iterating through key-value pairs using .items()\n",
    "for key, value in my_dict.items():\n",
    "    print(f\"Key: {key}, Value: {value}\")"
   ]
  },
  {
   "cell_type": "code",
   "execution_count": 10,
   "id": "1dc344e9-e8dd-42d2-9cbf-b19bad05f293",
   "metadata": {},
   "outputs": [],
   "source": [
    "# Problem 16 - GCD using 'for' loop"
   ]
  },
  {
   "cell_type": "code",
   "execution_count": null,
   "id": "5b7521ac-f6b0-45a1-8860-04a7847d17c6",
   "metadata": {},
   "outputs": [],
   "source": [
    "# Function to find the GCD of two numbers using a for loop\n",
    "def find_gcd(a, b):\n",
    "    for i in range(1, min(a, b) + 1):\n",
    "        if a % i == 0 and b % i == 0:\n",
    "            gcd = i\n",
    "    return gcd\n",
    "\n",
    "# Input: Get the two numbers from the user\n",
    "num1 = int(input(\"Enter the first number: \"))\n",
    "num2 = int(input(\"Enter the second number: \"))\n",
    "\n",
    "# Calculate the GCD\n",
    "gcd = find_gcd(num1, num2)\n",
    "\n",
    "# Print the result\n",
    "print(f\"The GCD of {num1} and {num2} is {gcd}\")"
   ]
  },
  {
   "cell_type": "code",
   "execution_count": 12,
   "id": "26c07afc-944b-48df-aead-7e5c68a1847b",
   "metadata": {},
   "outputs": [],
   "source": [
    "# Problem 17 - Palindrome using for loop"
   ]
  },
  {
   "cell_type": "code",
   "execution_count": null,
   "id": "d17951e9-177b-4db1-b0e9-092b440b5803",
   "metadata": {},
   "outputs": [],
   "source": [
    "# Function to check if a string is a palindrome\n",
    "def is_palindrome(s):\n",
    "    # Remove spaces and convert the string to lowercase for case-insensitivity\n",
    "    s = s.replace(\" \", \"\").lower()\n",
    "\n",
    "    # Initialize variables for checking\n",
    "    left, right = 0, len(s) - 1\n",
    "\n",
    "    # Use a for loop to check if the string is a palindrome\n",
    "    for _ in range(len(s) // 2):\n",
    "        if s[left] != s[right]:\n",
    "            return False\n",
    "        left += 1\n",
    "        right -= 1\n",
    "\n",
    "    return True\n",
    "\n",
    "# Input: Get the string from the user\n",
    "input_string = input(\"Enter a string: \")\n",
    "\n",
    "# Check if the string is a palindrome\n",
    "if is_palindrome(input_string):\n",
    "    print(\"The string is a palindrome.\")\n",
    "else:\n",
    "    print(\"The string is not a palindrome.\")"
   ]
  },
  {
   "cell_type": "code",
   "execution_count": 14,
   "id": "c2e4c448-2c71-4f73-a2cd-a83d167b8c3a",
   "metadata": {},
   "outputs": [],
   "source": [
    "# Problem 18 - Remove duplicates using 'for' loop"
   ]
  },
  {
   "cell_type": "code",
   "execution_count": null,
   "id": "229424d6-6ae7-4f7a-950a-94a5cb6a980d",
   "metadata": {},
   "outputs": [],
   "source": [
    "# Function to remove duplicates from a list using a for loop\n",
    "def remove_duplicates(input_list):\n",
    "    unique_list = []\n",
    "    for item in input_list:\n",
    "        if item not in unique_list:\n",
    "            unique_list.append(item)\n",
    "    return unique_list\n",
    "\n",
    "# Sample list with duplicates\n",
    "my_list = [1, 2, 2, 3, 4, 4, 5]\n",
    "\n",
    "# Call the function to remove duplicates\n",
    "result_list = remove_duplicates(my_list)\n",
    "\n",
    "# Print the result\n",
    "print(\"Original List:\", my_list)\n",
    "print(\"List with Duplicates Removed:\", result_list)"
   ]
  },
  {
   "cell_type": "code",
   "execution_count": 16,
   "id": "805051c9-4834-4fd8-8699-f55be332d522",
   "metadata": {},
   "outputs": [],
   "source": [
    "# Problem 19 - Count words using for loop"
   ]
  },
  {
   "cell_type": "code",
   "execution_count": null,
   "id": "3ca7c140-04f1-4f47-b2ab-225dfd90553c",
   "metadata": {},
   "outputs": [],
   "source": [
    "# Function to count the number of words in a sentence\n",
    "def count_words(sentence):\n",
    "    # Initialize a variable to store the word count\n",
    "    word_count = 0\n",
    "\n",
    "    # Initialize a flag to track if we are inside a word\n",
    "    inside_word = False\n",
    "\n",
    "    # Iterate through each character in the sentence\n",
    "    for char in sentence:\n",
    "        # Check if the character is a letter (part of a word)\n",
    "        if char.isalpha():\n",
    "            inside_word = True\n",
    "        # Check if the character is not a letter (end of a word)\n",
    "        elif inside_word:\n",
    "            word_count += 1\n",
    "            inside_word = False\n",
    "\n",
    "    # If the sentence ends with a word, count it\n",
    "    if inside_word:\n",
    "        word_count += 1\n",
    "\n",
    "    return word_count\n",
    "\n",
    "# Input: Get the sentence from the user\n",
    "sentence = input(\"Enter a sentence: \")\n",
    "\n",
    "# Call the function to count words\n",
    "num_words = count_words(sentence)\n",
    "\n",
    "# Print the result\n",
    "print(f\"The sentence has {num_words} word(s).\")"
   ]
  },
  {
   "cell_type": "code",
   "execution_count": null,
   "id": "b6eb56c3-80f7-4296-b73e-c0f1876639bc",
   "metadata": {},
   "outputs": [],
   "source": [
    "# Problem 20 - Sum of odd numbers b/w 1-50"
   ]
  },
  {
   "cell_type": "code",
   "execution_count": null,
   "id": "62861b94-3917-4fa2-9979-40f967df5344",
   "metadata": {},
   "outputs": [],
   "source": [
    "# Initialize a variable to store the sum of odd numbers\n",
    "sum_of_odd_numbers = 0\n",
    "\n",
    "# Use a for loop to iterate from 1 to 50\n",
    "for number in range(1, 51):\n",
    "    # Check if the number is odd\n",
    "    if number % 2 != 0:\n",
    "        sum_of_odd_numbers += number\n",
    "\n",
    "# Print the result\n",
    "print(\"The sum of all odd numbers from 1 to 50 is:\", sum_of_odd_numbers)"
   ]
  },
  {
   "cell_type": "code",
   "execution_count": 19,
   "id": "1e1c21bc-0eaa-47a1-b464-e2f293569f4e",
   "metadata": {},
   "outputs": [],
   "source": [
    "# Problem 21 - Check leap year using for loop"
   ]
  },
  {
   "cell_type": "code",
   "execution_count": null,
   "id": "c9a976e3-c36c-45eb-946d-e331ac2fdc35",
   "metadata": {},
   "outputs": [],
   "source": [
    "# Function to check if a year is a leap year\n",
    "def is_leap_year(year):\n",
    "    return (year % 4 == 0 and year % 100 != 0) or (year % 400 == 0)\n",
    "\n",
    "# List of years to check\n",
    "years = [2000, 2004, 2008, 2020, 2022, 2024]\n",
    "\n",
    "# Iterate through the list of years and check for leap years\n",
    "for year in years:\n",
    "    if is_leap_year(year):\n",
    "        print(f\"{year} is a leap year.\")\n",
    "    else:\n",
    "        print(f\"{year} is not a leap year.\")"
   ]
  },
  {
   "cell_type": "code",
   "execution_count": 21,
   "id": "1503a8a6-4784-4576-961b-f5c783aac0c3",
   "metadata": {},
   "outputs": [],
   "source": [
    "# Problem 22 - Calculating square root\n",
    "# Newton-Raphson method is used to find approx root using iterations\n",
    "# As we cannot use for loop for a single number, I have used this approach to show how a loop will still work"
   ]
  },
  {
   "cell_type": "code",
   "execution_count": null,
   "id": "79cdb68b-6cd6-463a-9746-5a8bf862160a",
   "metadata": {},
   "outputs": [],
   "source": [
    "# Function to approximate the square root using a for loop\n",
    "def square_root_approximation(number, iterations=100):\n",
    "    guess = number / 2.0  # Initial guess\n",
    "    for _ in range(iterations):\n",
    "        guess = 0.5 * (guess + number / guess)\n",
    "    return guess\n",
    "\n",
    "# Input: Get the number from the user\n",
    "number = float(input(\"Enter a number to find the square root: \"))\n",
    "\n",
    "# Input: Get the number of iterations (optional, default is 100)\n",
    "iterations = int(input(\"Enter the number of iterations (default is 100): \") or 100)\n",
    "\n",
    "# Calculate the square root approximation\n",
    "result = square_root_approximation(number, iterations)\n",
    "\n",
    "# Print the result\n",
    "print(f\"The square root of {number} is approximately {result:.6f}\")"
   ]
  },
  {
   "cell_type": "code",
   "execution_count": 23,
   "id": "43e081eb-b409-4711-ba4e-d90f8d90dd0a",
   "metadata": {},
   "outputs": [],
   "source": [
    "# Problem 23 - Find LCM with for loop"
   ]
  },
  {
   "cell_type": "code",
   "execution_count": null,
   "id": "65892eb9-31d5-4d36-87e3-35539b3a51ca",
   "metadata": {},
   "outputs": [],
   "source": [
    "# Function to find the LCM of two numbers using a for loop\n",
    "def find_lcm(x, y):\n",
    "    # Determine the maximum of the two numbers\n",
    "    max_num = max(x, y)\n",
    "\n",
    "    # Use a for loop to find the LCM\n",
    "    for lcm in range(max_num, x * y + 1):\n",
    "        if lcm % x == 0 and lcm % y == 0:\n",
    "            return lcm\n",
    "\n",
    "# Input: Get the two numbers from the user\n",
    "num1 = int(input(\"Enter the first number: \"))\n",
    "num2 = int(input(\"Enter the second number: \"))\n",
    "\n",
    "# Calculate the LCM\n",
    "lcm = find_lcm(num1, num2)\n",
    "\n",
    "# Print the result\n",
    "print(f\"The LCM of {num1} and {num2} is {lcm}\")"
   ]
  },
  {
   "cell_type": "code",
   "execution_count": 25,
   "id": "aad24856-d7f1-4d15-85d2-56a7d34fbb4a",
   "metadata": {},
   "outputs": [],
   "source": [
    "# ---------------- IF ELSE EXERCISE ---------------------------"
   ]
  },
  {
   "cell_type": "code",
   "execution_count": 26,
   "id": "49ee37b8-eec2-4db0-9032-d6f8e2d98e9a",
   "metadata": {},
   "outputs": [],
   "source": [
    "# Problem 1 - Number positive/negative/zero"
   ]
  },
  {
   "cell_type": "code",
   "execution_count": null,
   "id": "72fba65d-4829-460e-80f1-3f24da7f10d3",
   "metadata": {},
   "outputs": [],
   "source": [
    "# Input: Get a number from the user\n",
    "number = float(input(\"Enter a number:\"))\n",
    "\n",
    "# Check if the number is positive, negative, or zero\n",
    "if number > 0:\n",
    "    print(\"The number is positive.\")\n",
    "elif number < 0:\n",
    "    print(\"The number is negative.\")\n",
    "else:\n",
    "    print(\"The number is zero.\")"
   ]
  },
  {
   "cell_type": "code",
   "execution_count": 27,
   "id": "d92be87d-e5a0-40dc-baa4-d9914667e3d7",
   "metadata": {},
   "outputs": [],
   "source": [
    "# Problem 2 - Even/Odd check"
   ]
  },
  {
   "cell_type": "code",
   "execution_count": null,
   "id": "cc87c681-782b-47e1-a675-d6e1293d9d0a",
   "metadata": {},
   "outputs": [],
   "source": [
    "# Input: Get a number from the user\n",
    "number = int(input(\"Enter a number: \"))\n",
    "\n",
    "# Check if the number is even or odd\n",
    "if number % 2 == 0:\n",
    "    print(f\"{number} is even.\")\n",
    "else:\n",
    "    print(f\"{number} is odd.\")"
   ]
  },
  {
   "cell_type": "code",
   "execution_count": 28,
   "id": "9edff83e-6b82-49fa-b5ab-c47a34f0ef44",
   "metadata": {},
   "outputs": [],
   "source": [
    "# Problem 3 - Nested if-else example"
   ]
  },
  {
   "cell_type": "code",
   "execution_count": null,
   "id": "a73b3a91-5b7b-447b-97f5-de8e305076c8",
   "metadata": {},
   "outputs": [],
   "source": [
    "\"\"\"\n",
    "- Nested if-else statements in Python are used to create a hierarchy of conditions, where one set of conditions is checked within another set. \n",
    "- This allows us to handle more complex decision-making scenarios. \n",
    "- The inner if-else statements are contained within the block of an outer if or else block. \n",
    "- Here's an example of using nested if-else statements in Python:\n",
    "\"\"\"\n",
    "\n",
    "# Input: Get the age from the user\n",
    "age = int(input(\"Enter your age: \"))\n",
    "\n",
    "# Check if the person is eligible to vote\n",
    "if age >= 18:\n",
    "    # Outer if block\n",
    "    print(\"You are eligible to vote.\")\n",
    "    \n",
    "    # Check if the person has already registered to vote\n",
    "    registration_status = input(\"Have you registered to vote? (yes/no): \")\n",
    "    \n",
    "    if registration_status.lower() == \"yes\":\n",
    "        # Inner if block\n",
    "        print(\"Great, you are all set to vote!\")\n",
    "    else:\n",
    "        # Inner else block\n",
    "        print(\"Please register to vote before the election.\")\n",
    "else:\n",
    "    # Outer else block\n",
    "    print(\"You are not eligible to vote. You must be 18 or older.\")"
   ]
  },
  {
   "cell_type": "code",
   "execution_count": 29,
   "id": "cb107c48-4577-4056-8b4b-263d264de6b0",
   "metadata": {},
   "outputs": [],
   "source": [
    "# Problem 4 - Largest of three numbers"
   ]
  },
  {
   "cell_type": "code",
   "execution_count": null,
   "id": "bf85abc6-ad0f-4b3f-a529-2233bdc0e3cc",
   "metadata": {},
   "outputs": [],
   "source": [
    "# Input: Get three numbers from the user\n",
    "num1 = float(input(\"Enter the first number: \"))\n",
    "num2 = float(input(\"Enter the second number: \"))\n",
    "num3 = float(input(\"Enter the third number: \"))\n",
    "\n",
    "# Determine the largest number\n",
    "if num1 >= num2 and num1 >= num3:\n",
    "    largest = num1\n",
    "elif num2 >= num1 and num2 >= num3:\n",
    "    largest = num2\n",
    "else:\n",
    "    largest = num3\n",
    "\n",
    "# Print the result\n",
    "print(f\"The largest number among {num1}, {num2}, and {num3} is {largest}.\")"
   ]
  },
  {
   "cell_type": "code",
   "execution_count": 30,
   "id": "c38ed953-6614-47ad-a85c-e06c56f55fe2",
   "metadata": {},
   "outputs": [],
   "source": [
    "# Problem 5 - Absolute value "
   ]
  },
  {
   "cell_type": "code",
   "execution_count": null,
   "id": "0a13487b-146e-4431-80d6-e6cdcfd31af9",
   "metadata": {},
   "outputs": [],
   "source": [
    "# Input: Get a number from the user\n",
    "number = float(input(\"Enter a number: \"))\n",
    "\n",
    "# Calculate the absolute value\n",
    "if number < 0:\n",
    "    absolute_value = -number\n",
    "else:\n",
    "    absolute_value = number\n",
    "\n",
    "# Print the result\n",
    "print(f\"The absolute value of {number} is {absolute_value}.\")"
   ]
  },
  {
   "cell_type": "code",
   "execution_count": 31,
   "id": "ac64ab2f-4856-4900-870e-19c2e6d77727",
   "metadata": {},
   "outputs": [],
   "source": [
    "# Problem 6 - Vowel/consonent"
   ]
  },
  {
   "cell_type": "code",
   "execution_count": null,
   "id": "60b0c1b8-6c02-4cf5-8001-1e8cf6a3d7e3",
   "metadata": {},
   "outputs": [],
   "source": [
    "# Input: Get a character from the user\n",
    "char = input(\"Enter a character: \")\n",
    "\n",
    "# Check if the character is a vowel or consonant\n",
    "if char.isalpha() and len(char) == 1:\n",
    "    if char.lower() in \"aeiou\":\n",
    "        print(f\"{char} is a vowel.\")\n",
    "    else:\n",
    "        print(f\"{char} is a consonant.\")\n",
    "else:\n",
    "    print(\"Please enter a single alphabet character.\")"
   ]
  },
  {
   "cell_type": "code",
   "execution_count": 32,
   "id": "e509fa35-c608-452d-b8a9-c464e3c55351",
   "metadata": {},
   "outputs": [],
   "source": [
    "# Problem 7 - Voting eligibility"
   ]
  },
  {
   "cell_type": "code",
   "execution_count": null,
   "id": "2e92e17d-e8b0-4dae-902b-02cab03e0b02",
   "metadata": {},
   "outputs": [],
   "source": [
    "# Input: Get the age from the user\n",
    "age = int(input(\"Enter your age: \"))\n",
    "\n",
    "# Check if the user is eligible to vote\n",
    "if age >= 18:\n",
    "    print(\"You are eligible to vote.\")\n",
    "else:\n",
    "    print(\"You are not eligible to vote. You must be 18 or older.\")"
   ]
  },
  {
   "cell_type": "code",
   "execution_count": 33,
   "id": "5d2581b3-5605-43b2-b57e-532af37321a4",
   "metadata": {},
   "outputs": [],
   "source": [
    "# Problem 8 - Discount calculation"
   ]
  },
  {
   "cell_type": "code",
   "execution_count": null,
   "id": "4e2d3ef8-7ee5-4b3a-9f09-42e97b04e788",
   "metadata": {},
   "outputs": [],
   "source": [
    "# Input: Get the purchase amount from the user\n",
    "purchase_amount = float(input(\"Enter the purchase amount: $\"))\n",
    "\n",
    "# Initialize variables for discount and discounted amount\n",
    "discount = 0\n",
    "discounted_amount = purchase_amount\n",
    "\n",
    "# Check if the purchase amount is eligible for a discount\n",
    "if purchase_amount >= 100:\n",
    "    discount = 10  # 10% discount for purchases of $100 or more\n",
    "    discounted_amount = purchase_amount - (purchase_amount * discount / 100)\n",
    "\n",
    "# Print the result\n",
    "print(f\"Purchase Amount: ${purchase_amount:.2f}\")\n",
    "print(f\"Discount: {discount}%\")\n",
    "print(f\"Discounted Amount: ${discounted_amount:.2f}\")"
   ]
  },
  {
   "cell_type": "code",
   "execution_count": 35,
   "id": "0f5f8981-74df-428d-9158-54d126ca3c8e",
   "metadata": {},
   "outputs": [],
   "source": [
    "# Problem 9 - Number within specified range"
   ]
  },
  {
   "cell_type": "code",
   "execution_count": null,
   "id": "bdf0bddc-d117-413b-99c2-d3dc1e05bd9b",
   "metadata": {},
   "outputs": [],
   "source": [
    "# Input: Get a number from the user\n",
    "number = float(input(\"Enter a number: \"))\n",
    "\n",
    "# Define the specified range\n",
    "lower_limit = 10\n",
    "upper_limit = 50\n",
    "\n",
    "# Check if the number is within the specified range\n",
    "if lower_limit <= number <= upper_limit:\n",
    "    print(f\"{number} is within the range [{lower_limit}, {upper_limit}].\")\n",
    "else:\n",
    "    print(f\"{number} is not within the range [{lower_limit}, {upper_limit}].\")"
   ]
  },
  {
   "cell_type": "code",
   "execution_count": 36,
   "id": "bed61b37-6cc1-4ad8-b780-7382e67fe182",
   "metadata": {},
   "outputs": [],
   "source": [
    "# Problem 10 - Student grading"
   ]
  },
  {
   "cell_type": "code",
   "execution_count": null,
   "id": "2f8c52c4-db87-4b94-97f2-e1132afd32f9",
   "metadata": {},
   "outputs": [],
   "source": [
    "# Input: Get the student's score from the user\n",
    "score = float(input(\"Enter the student's score: \"))\n",
    "\n",
    "# Determine the grade based on the score\n",
    "if 90 <= score <= 100:\n",
    "    grade = \"A\"\n",
    "elif 80 <= score < 90:\n",
    "    grade = \"B\"\n",
    "elif 70 <= score < 80:\n",
    "    grade = \"C\"\n",
    "elif 60 <= score < 70:\n",
    "    grade = \"D\"\n",
    "else:\n",
    "    grade = \"F\"\n",
    "\n",
    "# Print the result\n",
    "print(f\"The student's score is {score} and the grade is {grade}.\")"
   ]
  },
  {
   "cell_type": "code",
   "execution_count": 37,
   "id": "6a9d2779-6908-450a-ae32-8cc41b37b767",
   "metadata": {},
   "outputs": [],
   "source": [
    "# Problem 11- Check for empty string"
   ]
  },
  {
   "cell_type": "code",
   "execution_count": null,
   "id": "b5aff25d-aa0b-4ffe-9a59-c43ecbdee96d",
   "metadata": {},
   "outputs": [],
   "source": [
    "# Input: Get a string from the user\n",
    "text = input(\"Enter a string: \")\n",
    "\n",
    "# Check if the string is empty\n",
    "if not text:\n",
    "    print(\"The string is empty.\")\n",
    "else:\n",
    "    print(\"The string is not empty.\")"
   ]
  },
  {
   "cell_type": "code",
   "execution_count": 38,
   "id": "99823391-6bea-4d7c-a168-a26a76ac3b92",
   "metadata": {},
   "outputs": [],
   "source": [
    "# Problem 12 - Triangle type check"
   ]
  },
  {
   "cell_type": "code",
   "execution_count": null,
   "id": "4943e9e8-43a9-4ce1-b334-754ba781fc67",
   "metadata": {},
   "outputs": [],
   "source": [
    "# Input: Get the lengths of the triangle sides from the user\n",
    "side1 = float(input(\"Enter the length of the first side: \"))\n",
    "side2 = float(input(\"Enter the length of the second side: \"))\n",
    "side3 = float(input(\"Enter the length of the third side: \"))\n",
    "\n",
    "# Check and identify the type of triangle\n",
    "if side1 == side2 == side3:\n",
    "    triangle_type = \"equilateral\"\n",
    "elif side1 == side2 or side1 == side3 or side2 == side3:\n",
    "    triangle_type = \"isosceles\"\n",
    "else:\n",
    "    triangle_type = \"scalene\"\n",
    "\n",
    "# Print the result\n",
    "print(f\"The triangle with side lengths {side1}, {side2}, and {side3} is a {triangle_type} triangle.\")"
   ]
  },
  {
   "cell_type": "code",
   "execution_count": 40,
   "id": "4ce04ca5-b235-4214-8011-bd541f1903f9",
   "metadata": {},
   "outputs": [],
   "source": [
    "# Problem 13 - Day of week determination"
   ]
  },
  {
   "cell_type": "code",
   "execution_count": null,
   "id": "43475ff7-1666-4f32-805c-ca6df69efc52",
   "metadata": {},
   "outputs": [],
   "source": [
    "# Input: Get a number from the user (1-7)\n",
    "day_number = int(input(\"Enter a number between 1 and 7: \"))\n",
    "\n",
    "# Determine the day of the week\n",
    "if day_number == 1:\n",
    "    day_name = \"Monday\"\n",
    "elif day_number == 2:\n",
    "    day_name = \"Tuesday\"\n",
    "elif day_number == 3:\n",
    "    day_name = \"Wednesday\"\n",
    "elif day_number == 4:\n",
    "    day_name = \"Thursday\"\n",
    "elif day_number == 5:\n",
    "    day_name = \"Friday\"\n",
    "elif day_number == 6:\n",
    "    day_name = \"Saturday\"\n",
    "elif day_number == 7:\n",
    "    day_name = \"Sunday\"\n",
    "else:\n",
    "    day_name = \"Invalid input\"\n",
    "\n",
    "# Print the result\n",
    "print(f\"The day of the week for number {day_number} is {day_name}.\")"
   ]
  },
  {
   "cell_type": "code",
   "execution_count": 42,
   "id": "d137891a-e248-4b75-93b7-fd66735d871a",
   "metadata": {},
   "outputs": [],
   "source": [
    "# Problem 14 - Leap year check using both if-else and function"
   ]
  },
  {
   "cell_type": "code",
   "execution_count": null,
   "id": "753293b3-e662-4b80-be37-d4741f2e87e0",
   "metadata": {},
   "outputs": [],
   "source": [
    "# Function to check if a year is a leap year\n",
    "def is_leap_year(year):\n",
    "    if (year % 4 == 0 and year % 100 != 0) or (year % 400 == 0):\n",
    "        return True\n",
    "    else:\n",
    "        return False\n",
    "\n",
    "# Input: Get the year from the user\n",
    "year = int(input(\"Enter a year: \"))\n",
    "\n",
    "# Check if it's a leap year using the function\n",
    "if is_leap_year(year):\n",
    "    print(f\"{year} is a leap year.\")\n",
    "else:\n",
    "    print(f\"{year} is not a leap year.\")"
   ]
  },
  {
   "cell_type": "code",
   "execution_count": 43,
   "id": "673834f6-9794-44b0-8f75-e33e6d2a72e2",
   "metadata": {},
   "outputs": [],
   "source": [
    "# Problem 15 - Assert statement explanation"
   ]
  },
  {
   "cell_type": "code",
   "execution_count": null,
   "id": "8a927147-dc4a-4eb5-8a58-8340c87cc6d5",
   "metadata": {},
   "outputs": [],
   "source": [
    "\"\"\"\n",
    "- The assert statement in Python is used for debugging and testing. \n",
    "- It helps you add assertions within your code to check if certain conditions are met. \n",
    "- If an assertion is not true, an AssertionError exception is raised, and the program terminates\n",
    "- Below is an example....\n",
    "\"\"\"\n",
    "\n",
    "# Example: Checking if a number is positive within an if-else block\n",
    "number = -5\n",
    "\n",
    "# Using try-catch to avoid stack trace and abrupt discontinuation of program\n",
    "try:\n",
    "\n",
    "    if number < 0:\n",
    "        print(\"Number is negative.\")\n",
    "        assert number >= 0, \"AssertionError: Number must be non-negative.\"\n",
    "    else:\n",
    "        print(\"Number is non-negative.\")\n",
    "except Exception as e:\n",
    "    print(e)"
   ]
  },
  {
   "cell_type": "code",
   "execution_count": 46,
   "id": "9a6da3a9-066e-4b9d-9ed0-7d3802bc5f40",
   "metadata": {},
   "outputs": [],
   "source": [
    "# Problem 16 - Senior citizenship eligibility check"
   ]
  },
  {
   "cell_type": "code",
   "execution_count": null,
   "id": "facd8cfe-4efd-4bfa-a3ea-8246398755ed",
   "metadata": {},
   "outputs": [],
   "source": [
    "# Input: Get the age from the user\n",
    "age = int(input(\"Enter your age: \"))\n",
    "\n",
    "# Define the age threshold for senior citizen discount\n",
    "senior_citizen_age = 60\n",
    "\n",
    "# Check if the person is eligible for a senior citizen discount\n",
    "if age >= senior_citizen_age:\n",
    "    print(\"You are eligible for a senior citizen discount.\")\n",
    "else:\n",
    "    print(\"You are not eligible for a senior citizen discount.\")"
   ]
  },
  {
   "cell_type": "code",
   "execution_count": 47,
   "id": "cd4e375c-f20a-4deb-9e82-06490ceee8b1",
   "metadata": {},
   "outputs": [],
   "source": [
    "# Problem 17 - Categorize char as upper/lower/neither"
   ]
  },
  {
   "cell_type": "code",
   "execution_count": null,
   "id": "4329f80a-1527-4954-8489-8c547073ad65",
   "metadata": {},
   "outputs": [],
   "source": [
    "# Input: Get a character from the user\n",
    "char = input(\"Enter a character: \")\n",
    "\n",
    "# Check and categorize the character\n",
    "if char.isalpha():\n",
    "    if char.islower():\n",
    "        category = \"lowercase\"\n",
    "    else:\n",
    "        category = \"uppercase\"\n",
    "else:\n",
    "    category = \"neither uppercase nor lowercase\"\n",
    "\n",
    "# Print the result\n",
    "print(f\"The character '{char}' is {category}.\")"
   ]
  },
  {
   "cell_type": "code",
   "execution_count": 51,
   "id": "b5f553b3-78d1-4a89-8974-36a7e3b9fc87",
   "metadata": {},
   "outputs": [],
   "source": [
    "# Problem 18 - Roots of quadratic equation"
   ]
  },
  {
   "cell_type": "code",
   "execution_count": null,
   "id": "6fda96e9-8bea-4ed1-9e5b-059ae2f36c5d",
   "metadata": {},
   "outputs": [],
   "source": [
    "import math\n",
    "\n",
    "# Input: Get the coefficients of the quadratic equation from the user\n",
    "a = float(input(\"Enter the coefficient 'a': \"))\n",
    "b = float(input(\"Enter the coefficient 'b': \"))\n",
    "c = float(input(\"Enter the coefficient 'c': \"))\n",
    "\n",
    "# Calculate the discriminant\n",
    "discriminant = b**2 - 4*a*c\n",
    "\n",
    "# Check and determine the roots based on the discriminant\n",
    "if discriminant > 0:\n",
    "    # Two real and distinct roots\n",
    "    root1 = (-b + math.sqrt(discriminant)) / (2*a)\n",
    "    root2 = (-b - math.sqrt(discriminant)) / (2*a)\n",
    "    print(f\"The roots of the quadratic equation are real and distinct: {root1} and {root2}\")\n",
    "elif discriminant == 0:\n",
    "    # One real root (repeated)\n",
    "    root = -b / (2*a)\n",
    "    print(f\"The root of the quadratic equation is real and repeated: {root}\")\n",
    "else:\n",
    "    # Complex roots\n",
    "    real_part = -b / (2*a)\n",
    "    imaginary_part = math.sqrt(abs(discriminant)) / (2*a)\n",
    "    root1 = complex(real_part, imaginary_part)\n",
    "    root2 = complex(real_part, -imaginary_part)\n",
    "    print(f\"The roots of the quadratic equation are complex: {root1} and {root2}\")"
   ]
  },
  {
   "cell_type": "code",
   "execution_count": 52,
   "id": "6b9173e3-e19e-4a7c-8fa8-b8a561213c20",
   "metadata": {},
   "outputs": [],
   "source": [
    "# Problem 19 - Century year check"
   ]
  },
  {
   "cell_type": "code",
   "execution_count": null,
   "id": "7ec92f79-353c-4b2d-9e74-9692143e97da",
   "metadata": {},
   "outputs": [],
   "source": [
    "# Input: Get the year from the user\n",
    "year = int(input(\"Enter a year: \"))\n",
    "\n",
    "# Check if the year is a century year\n",
    "if year % 100 == 0:\n",
    "    print(f\"{year} is a century year.\")\n",
    "else:\n",
    "    print(f\"{year} is not a century year.\")"
   ]
  },
  {
   "cell_type": "code",
   "execution_count": 53,
   "id": "5d550e92-503d-4f65-af09-a67c4fdba5c4",
   "metadata": {},
   "outputs": [],
   "source": [
    "# Problem 20 - Checking if num is a perfect square"
   ]
  },
  {
   "cell_type": "code",
   "execution_count": null,
   "id": "3ea600d1-5e08-4c66-b1ff-b1b022f667bd",
   "metadata": {},
   "outputs": [],
   "source": [
    "# Input: Get a number from the user\n",
    "number = int(input(\"Enter a number: \"))\n",
    "\n",
    "# Check if the number is a perfect square\n",
    "if number < 0:\n",
    "    is_perfect_square = False\n",
    "else:\n",
    "    sqrt = int(number**0.5)\n",
    "    is_perfect_square = sqrt**2 == number\n",
    "\n",
    "# Print the result\n",
    "if is_perfect_square:\n",
    "    print(f\"{number} is a perfect square.\")\n",
    "else:\n",
    "    print(f\"{number} is not a perfect square.\")"
   ]
  },
  {
   "cell_type": "code",
   "execution_count": 56,
   "id": "b4ae549d-daf7-41c9-b4ff-8fe542d00e5a",
   "metadata": {},
   "outputs": [],
   "source": [
    "# Problem 21 - Explaining continue and break statements"
   ]
  },
  {
   "cell_type": "code",
   "execution_count": null,
   "id": "e80853e5-2a1b-4337-b473-f8bde740e03b",
   "metadata": {},
   "outputs": [],
   "source": [
    "\"\"\"\n",
    "- The \"continue\" and \"break\" statements are control flow statements in Python used within loops, \n",
    "     including \"for\" and \"while\" loops, to control the flow of the program. \n",
    "     \n",
    "- Here's an explanation of their purposes within if-else loops:\n",
    "\n",
    "1) \"continue\" statement:\n",
    "\n",
    "    - Purpose: The \"continue\" statement is used to skip the current iteration of a loop and move to the next iteration. \n",
    "        It allows us to bypass the remaining code within the current iteration and continue with the next iteration.\n",
    "        \n",
    "    - Use cases:\n",
    "        - We can use \"continue\" when you want to skip specific elements or conditions within a loop and \n",
    "          continue processing the remaining elements.\n",
    "\n",
    "        - It's often used when you want to filter out or exclude certain items that meet a particular condition.\n",
    "\"\"\"\n",
    "\n",
    "for num in range(1, 11):\n",
    "    if num % 2 == 0:\n",
    "        continue  # Skip even numbers\n",
    "    print(num)\n",
    "    \n",
    "\"\"\"\n",
    "2) \"break\" statement:\n",
    "\n",
    "    - Purpose: The \"break\" statement is used to exit a loop prematurely, \n",
    "       even if the loop's conditions or iterations are not complete. \n",
    "       It allows us to terminate the loop and continue with the next statement after the loop.\n",
    "       \n",
    "    - Use cases:\n",
    "        - \"break\" is often used when we want to stop the loop as soon as a specific condition is met.\n",
    "        - It's used for early exit from a loop when further iterations are unnecessary.\n",
    "\"\"\"\n",
    "\n",
    "num = 1\n",
    "while num <= 10:\n",
    "    if num % 2 == 0:\n",
    "        break  # Exit the loop as soon as an even number is found\n",
    "    num += 1\n",
    "print(\"First even number found:\", num)"
   ]
  },
  {
   "cell_type": "code",
   "execution_count": 57,
   "id": "10660e2a-7015-4ad7-a8a7-e550a6e5fff2",
   "metadata": {},
   "outputs": [],
   "source": [
    "# Problem 22 - Calculate BMI using if-else"
   ]
  },
  {
   "cell_type": "code",
   "execution_count": null,
   "id": "59201127-aef0-4d0e-ba21-e6e6d8b9860c",
   "metadata": {},
   "outputs": [],
   "source": [
    "# Input: Get weight (in kilograms) and height (in meters) from the user\n",
    "weight = float(input(\"Enter your weight (in kilograms): \"))\n",
    "height = float(input(\"Enter your height (in meters): \"))\n",
    "\n",
    "# Calculate BMI\n",
    "bmi = weight / (height ** 2)\n",
    "\n",
    "# Determine BMI category based on the calculated BMI\n",
    "if bmi < 18.5:\n",
    "    category = \"Underweight\"\n",
    "elif 18.5 <= bmi < 24.9:\n",
    "    category = \"Normal Weight\"\n",
    "elif 25 <= bmi < 29.9:\n",
    "    category = \"Overweight\"\n",
    "else:\n",
    "    category = \"Obese\"\n",
    "\n",
    "# Print the result\n",
    "print(f\"Your BMI is {bmi:.2f} which falls in the category: {category}\")"
   ]
  },
  {
   "cell_type": "code",
   "execution_count": null,
   "id": "2838241a-d708-4eaf-804d-cffec109374e",
   "metadata": {},
   "outputs": [],
   "source": [
    "# Problem 23 - Using filters with if-else statements"
   ]
  },
  {
   "cell_type": "code",
   "execution_count": null,
   "id": "8cfc52f8-5c93-4413-a167-2278073c3fa1",
   "metadata": {},
   "outputs": [],
   "source": [
    "\"\"\"\n",
    "- The filter() function in Python is used to filter elements from an iterable (e.g., a list) based on a specified condition or function. \n",
    "- While it's not common to use if-else statements directly with filter(), we can achieve the filtering by providing a custom function as the condition. \n",
    "- This function should return True for elements you want to keep and False for elements you want to filter out.\n",
    "\"\"\"\n",
    "\n",
    "# Define a list of numbers\n",
    "numbers = [1, 2, 3, 4, 5, 6, 7, 8, 9, 10]\n",
    "\n",
    "# Define a custom condition function\n",
    "def is_even(num):\n",
    "    return num % 2 == 0\n",
    "\n",
    "# Use the filter() function to filter even numbers\n",
    "even_numbers = filter(is_even, numbers)\n",
    "\n",
    "# Convert the filter object to a list\n",
    "even_numbers_list = list(even_numbers)\n",
    "\n",
    "# Print the filtered list\n",
    "print(even_numbers_list)"
   ]
  },
  {
   "cell_type": "code",
   "execution_count": 58,
   "id": "17cb1270-8bf2-4182-9ca7-e3f9f37bc5f4",
   "metadata": {},
   "outputs": [],
   "source": [
    "# Problem 24 - Number prime/not"
   ]
  },
  {
   "cell_type": "code",
   "execution_count": null,
   "id": "7358e987-f120-4c26-b726-b568b7aa138a",
   "metadata": {},
   "outputs": [],
   "source": [
    "# Input: Get a number from the user\n",
    "number = int(input(\"Enter a number: \"))\n",
    "\n",
    "# Check if the number is prime\n",
    "if number <= 1:\n",
    "    is_prime = False  # Numbers less than or equal to 1 are not prime\n",
    "else:\n",
    "    is_prime = True  # Assume the number is prime by default\n",
    "    for i in range(2, int(number**0.5) + 1):\n",
    "        if number % i == 0:\n",
    "            is_prime = False  # If the number is divisible by any value from 2 to sqrt(number), it's not prime\n",
    "            break\n",
    "\n",
    "# Print the result\n",
    "if is_prime:\n",
    "    print(f\"{number} is a prime number.\")\n",
    "else:\n",
    "    print(f\"{number} is not a prime number.\")"
   ]
  },
  {
   "cell_type": "code",
   "execution_count": 3,
   "id": "a5d84233-0182-49de-b7b5-f54c1d706ed6",
   "metadata": {},
   "outputs": [],
   "source": [
    "# ---------------- Python MAP function --------------------------------"
   ]
  },
  {
   "cell_type": "code",
   "execution_count": null,
   "id": "dffd7172-d438-44bb-a4f9-fe484e2d696a",
   "metadata": {},
   "outputs": [],
   "source": [
    "# Problem 1 - Explain map() function"
   ]
  },
  {
   "cell_type": "code",
   "execution_count": null,
   "id": "51323703-8a51-414c-887d-22a18ed520a7",
   "metadata": {},
   "outputs": [],
   "source": [
    "\"\"\"\n",
    "- The map() function in Python is a built-in function used for applying a specified function to each item in an iterable \n",
    " (such as a list, tuple, or other iterable objects) and generating a new iterable with the results. \n",
    " \n",
    "- The primary purpose of map() is to eliminate the need for writing explicit for loops when you want to apply \n",
    "  a function to each element in an iterable, making your code more concise and readable.\n",
    "  \n",
    "- The basic syntax of the map() function is as follows:\n",
    "\"\"\"\n",
    "\n",
    "map(function, iterable)\n",
    "\n",
    "\"\"\"\n",
    "1) function: This is the function that you want to apply to each element of the iterable. \n",
    "             It can be a built-in function, a user-defined function, or a lambda function.\n",
    "             \n",
    "2) iterable: This is the iterable (e.g., a list, tuple, or any iterable) that contains the elements you want to process.\n",
    "\"\"\"\n",
    "\n",
    "# An example of usage of map() using lambda function as well\n",
    "\n",
    "numbers = [1, 2, 3, 4, 5]\n",
    "squared_numbers = map(lambda x: x ** 2, numbers)\n",
    "squared_numbers_list = list(squared_numbers)\n",
    "print(squared_numbers_list)"
   ]
  },
  {
   "cell_type": "code",
   "execution_count": 1,
   "id": "a65c99b6-4b1c-4ba0-aec3-aa093593ba3a",
   "metadata": {},
   "outputs": [],
   "source": [
    "# Problem 2 - Square elements in list"
   ]
  },
  {
   "cell_type": "code",
   "execution_count": null,
   "id": "98212f28-0a13-46dd-b726-b8f0b66bf30c",
   "metadata": {},
   "outputs": [],
   "source": [
    "# Define a function that squares a number\n",
    "def square(x):\n",
    "    return x ** 2\n",
    "\n",
    "# Create a list of numbers\n",
    "numbers = [1, 2, 3, 4, 5]\n",
    "\n",
    "# Use map() to apply the square function to each element in the list\n",
    "squared_numbers = map(square, numbers)\n",
    "\n",
    "# Convert the map object to a list to see the results\n",
    "squared_numbers_list = list(squared_numbers)\n",
    "\n",
    "# Print the squared numbers\n",
    "print(squared_numbers_list)"
   ]
  },
  {
   "cell_type": "code",
   "execution_count": 1,
   "id": "98aba217-32a2-4290-b697-fe450e2b6431",
   "metadata": {},
   "outputs": [],
   "source": [
    "# Problem 3 - Diff between list comprehension and map function"
   ]
  },
  {
   "cell_type": "code",
   "execution_count": null,
   "id": "ccdf339e-4194-4d74-b0ad-36a88d71b231",
   "metadata": {},
   "outputs": [],
   "source": [
    "\"\"\"\n",
    "- Here are some differences between list comprehension and map function in python:\n",
    "\n",
    "1) Result Type:\n",
    "\n",
    "  - map(): It returns a map object in Python 3, which is an iterable. \n",
    "           To see the results, we typically need to convert it to a list or another iterable type explicitly.\n",
    "           \n",
    "  - List Comprehension: It directly generates a new list.\n",
    "  \n",
    "2) Readability:\n",
    "\n",
    "  - map(): It may be less readable for simple operations as it requires defining a separate function to apply to each element.\n",
    "  \n",
    "  - List Comprehension: It is often considered more readable and concise, especially for straightforward operations.\n",
    "  \n",
    "3) Use of Functions:\n",
    "\n",
    "   - map(): Requires you to define a function explicitly, which can be useful for complex or reusable operations.\n",
    "   - List Comprehension: Allows for inline expressions, making it more convenient for simple, one-liner transformations.\n",
    "   \n",
    "4) Use Cases:\n",
    "\n",
    "    - map(): Well-suited for more complex operations where you need to apply a custom function to each element, \n",
    "      and it's particularly useful when you want to work with multiple iterables simultaneously \n",
    "      (e.g., using map() with two or more lists).\n",
    "      \n",
    "    - List Comprehension: Ideal for straightforward, one-liner transformations where you want to generate a new list \n",
    "      from an existing iterable quickly.\n",
    "      \n",
    "- We would choose map() when you need to apply a specific function to each element of an iterable, especially when dealing \n",
    "with more complex transformations or when you need to work with multiple iterables simultaneously. \n",
    "\n",
    "- On the other hand, we would opt for list comprehensions when the transformation is simple, \n",
    "and we want a concise, readable, and immediate result in the form of a new list\n",
    "\"\"\""
   ]
  },
  {
   "cell_type": "code",
   "execution_count": 3,
   "id": "794d5799-9f84-4ad9-8e87-245798f5c626",
   "metadata": {},
   "outputs": [],
   "source": [
    "# Problem 4 - Map function to convert to uppercase"
   ]
  },
  {
   "cell_type": "code",
   "execution_count": null,
   "id": "bfe154d6-e43f-4eca-8e1c-d177103b7f71",
   "metadata": {},
   "outputs": [],
   "source": [
    "# List of names\n",
    "names = [\"Alice\", \"Bob\", \"Charlie\", \"David\"]\n",
    "\n",
    "# Use map() to convert each name to uppercase\n",
    "uppercase_names = map(str.upper, names)\n",
    "\n",
    "# Convert the map object to a list to see the results\n",
    "uppercase_names_list = list(uppercase_names)\n",
    "\n",
    "# Print the uppercase names\n",
    "for name in uppercase_names_list:\n",
    "    print(name)"
   ]
  },
  {
   "cell_type": "code",
   "execution_count": 5,
   "id": "6758cf4e-75ea-4d80-b0aa-08aeafc8c3c6",
   "metadata": {},
   "outputs": [],
   "source": [
    "# Problem 5 - Map function to get length"
   ]
  },
  {
   "cell_type": "code",
   "execution_count": null,
   "id": "738ab057-18bc-444a-adaa-f254231cbb23",
   "metadata": {},
   "outputs": [],
   "source": [
    "# List of strings\n",
    "strings = [\"Hello\", \"World\", \"Python\", \"Programming\"]\n",
    "\n",
    "# Use map() to calculate the length of each word\n",
    "word_lengths = map(len, strings)\n",
    "\n",
    "# Convert the map object to a list to see the results\n",
    "word_lengths_list = list(word_lengths)\n",
    "\n",
    "# Print the word lengths\n",
    "for length in word_lengths_list:\n",
    "    print(length)"
   ]
  },
  {
   "cell_type": "code",
   "execution_count": 7,
   "id": "068e6842-1fad-41a6-843f-f07f19d5d34b",
   "metadata": {},
   "outputs": [],
   "source": [
    "# Problem 6 - Map function with custom functions and lists"
   ]
  },
  {
   "cell_type": "code",
   "execution_count": null,
   "id": "f46e211a-1146-4113-8348-2f29abbdd60d",
   "metadata": {},
   "outputs": [],
   "source": [
    "# Define a custom function to add corresponding elements from two lists\n",
    "def add_lists_elements(x, y):\n",
    "    return x + y\n",
    "\n",
    "# Create two lists\n",
    "list1 = [1, 2, 3, 4]\n",
    "list2 = [5, 6, 7, 8]\n",
    "\n",
    "# Use map() to apply the custom function to both lists\n",
    "result = map(add_lists_elements, list1, list2)\n",
    "\n",
    "# Convert the map object to a list to see the results\n",
    "result_list = list(result)\n",
    "\n",
    "# Print the result\n",
    "print(result_list)"
   ]
  },
  {
   "cell_type": "code",
   "execution_count": 9,
   "id": "889ec6f0-0172-4223-a7e9-a7e048f1b79f",
   "metadata": {},
   "outputs": [],
   "source": [
    "# Problem 7 - Celcius to Fahrenheit using map function"
   ]
  },
  {
   "cell_type": "code",
   "execution_count": null,
   "id": "b363cdbe-97ff-4666-91c2-778a7707f060",
   "metadata": {},
   "outputs": [],
   "source": [
    "# Define a function to convert Celsius to Fahrenheit\n",
    "def celsius_to_fahrenheit(celsius):\n",
    "    return (celsius * 9/5) + 32\n",
    "\n",
    "# List of temperatures in Celsius\n",
    "celsius_temperatures = [0, 10, 20, 30, 40]\n",
    "\n",
    "# Use map() to convert Celsius temperatures to Fahrenheit\n",
    "fahrenheit_temperatures = map(celsius_to_fahrenheit, celsius_temperatures)\n",
    "\n",
    "# Convert the map object to a list to see the results\n",
    "fahrenheit_temperatures_list = list(fahrenheit_temperatures)\n",
    "\n",
    "# Print the converted temperatures\n",
    "for fahrenheit in fahrenheit_temperatures_list:\n",
    "    print(fahrenheit)"
   ]
  },
  {
   "cell_type": "code",
   "execution_count": 10,
   "id": "72526d7a-a2da-48ae-bf18-e5828d8b7572",
   "metadata": {},
   "outputs": [],
   "source": [
    "# Problem 8 - Round off floating point nums"
   ]
  },
  {
   "cell_type": "code",
   "execution_count": null,
   "id": "bd080647-adc6-4dc3-934c-315e92177f70",
   "metadata": {},
   "outputs": [],
   "source": [
    "# List of floating-point numbers\n",
    "float_numbers = [3.14, 2.718, 1.618, 4.669]\n",
    "\n",
    "# Use map() to round each floating-point number to the nearest integer\n",
    "rounded_integers = map(round, float_numbers)\n",
    "\n",
    "# Convert the map object to a list to see the results\n",
    "rounded_integers_list = list(rounded_integers)\n",
    "\n",
    "# Print the rounded integers\n",
    "for integer in rounded_integers_list:\n",
    "    print(integer)"
   ]
  },
  {
   "cell_type": "code",
   "execution_count": 11,
   "id": "d3cb0a31-3948-42e9-9146-c7f7feb56d82",
   "metadata": {},
   "outputs": [],
   "source": [
    "# ---------------- PYTHON REDUCE FUNCTION ----------------------"
   ]
  },
  {
   "cell_type": "code",
   "execution_count": 12,
   "id": "c37affa2-b5e6-45ed-a0fa-94710bc34ff9",
   "metadata": {},
   "outputs": [],
   "source": [
    "# Problem 1 - Defining reduce()"
   ]
  },
  {
   "cell_type": "code",
   "execution_count": null,
   "id": "e294ae62-2c8d-481d-b6aa-a7a8397e5a8a",
   "metadata": {},
   "outputs": [],
   "source": [
    "\"\"\"\n",
    "- The reduce() function in Python is a part of the functools module, \n",
    "  which means we need to import the functools module to use it. \n",
    "\n",
    "- The primary purpose of the reduce() function is to apply a specified function cumulatively to the items of an iterable \n",
    "  (e.g., a list) from left to right, reducing the iterable to a single value. \n",
    "  \n",
    "- It continuously takes two items, applies the function to them, then takes the result and the next item, \n",
    "  and so on, until the entire iterable is processed.\n",
    "  \n",
    "Here is how we can import reduce()\n",
    "\"\"\"\n",
    "\n",
    "from functools import reduce\n",
    "\n",
    "# Here is one example of it's basic usage\n",
    "\n",
    "# Define a custom function to calculate the product of two numbers\n",
    "def multiply(x, y):\n",
    "    return x * y\n",
    "\n",
    "# List of numbers\n",
    "numbers = [1, 2, 3, 4, 5]\n",
    "\n",
    "# Use reduce() to find the product of the numbers\n",
    "product = functools.reduce(multiply, numbers)\n",
    "\n",
    "print(product)"
   ]
  },
  {
   "cell_type": "code",
   "execution_count": 14,
   "id": "552701b5-d21c-4490-b331-c1de38fcbf0f",
   "metadata": {},
   "outputs": [],
   "source": [
    "# Problem 2 - Product of all elements in list"
   ]
  },
  {
   "cell_type": "code",
   "execution_count": null,
   "id": "3a3c823e-25e2-4685-85c5-620206e0ee60",
   "metadata": {},
   "outputs": [],
   "source": [
    "from functools import reduce\n",
    "\n",
    "# Define a custom function to calculate the product of two numbers\n",
    "def multiply(x, y):\n",
    "    return x * y\n",
    "\n",
    "# List of numbers\n",
    "numbers = [1, 2, 3, 4, 5]\n",
    "\n",
    "# Use reduce() to find the product of all numbers\n",
    "product = reduce(multiply, numbers)\n",
    "\n",
    "# Print the product\n",
    "print(product)"
   ]
  },
  {
   "cell_type": "code",
   "execution_count": 16,
   "id": "259bf3a3-b848-4ac5-960a-7e0ce9cfcf6a",
   "metadata": {},
   "outputs": [],
   "source": [
    "# Problem 3 - Max element in list of numbers"
   ]
  },
  {
   "cell_type": "code",
   "execution_count": null,
   "id": "145e7804-550e-48ff-aa33-97b4a8b6beee",
   "metadata": {},
   "outputs": [],
   "source": [
    "from functools import reduce\n",
    "\n",
    "# Define a custom function to find the maximum of two numbers\n",
    "def find_max(x, y):\n",
    "    return x if x > y else y\n",
    "\n",
    "# List of numbers\n",
    "numbers = [12, 45, 6, 78, 31, 49, 66]\n",
    "\n",
    "# Use reduce() to find the maximum element in the list\n",
    "max_number = reduce(find_max, numbers)\n",
    "\n",
    "# Print the maximum number\n",
    "print(\"The maximum number in the list is:\", max_number)"
   ]
  },
  {
   "cell_type": "code",
   "execution_count": 18,
   "id": "49b08be0-8969-4d76-bf7f-4e9961cc5818",
   "metadata": {},
   "outputs": [],
   "source": [
    "# Problem 4 - COncatenate list of strings to single string"
   ]
  },
  {
   "cell_type": "code",
   "execution_count": null,
   "id": "e38ca468-999b-4590-b941-a4103ae88407",
   "metadata": {},
   "outputs": [],
   "source": [
    "from functools import reduce\n",
    "\n",
    "# Define a custom function to concatenate two strings\n",
    "def concatenate_strings(x, y):\n",
    "    return x + y\n",
    "\n",
    "# List of strings\n",
    "strings = [\"Hello\", \", \", \"world\", \"!\", \" \", \"Python\"]\n",
    "\n",
    "# Use reduce() to concatenate the strings into a single string\n",
    "result = reduce(concatenate_strings, strings)\n",
    "\n",
    "# Print the concatenated string\n",
    "print(result)"
   ]
  },
  {
   "cell_type": "code",
   "execution_count": 20,
   "id": "5a648026-05a7-4c67-99d6-5a583874e869",
   "metadata": {},
   "outputs": [],
   "source": [
    "# Problem 5 - Factorial using reduce()"
   ]
  },
  {
   "cell_type": "code",
   "execution_count": null,
   "id": "4f16ea21-e1f7-4748-8490-3060706901ce",
   "metadata": {},
   "outputs": [],
   "source": [
    "from functools import reduce\n",
    "\n",
    "# Define a custom function to calculate the product of two numbers\n",
    "def multiply(x, y):\n",
    "    return x * y\n",
    "\n",
    "# Function to calculate the factorial of a number\n",
    "def factorial(n):\n",
    "    if n == 0:\n",
    "        return 1\n",
    "    else:\n",
    "        return reduce(multiply, range(1, n + 1))\n",
    "\n",
    "# Input: Get the number from the user\n",
    "number = int(input(\"Enter a number: \"))\n",
    "\n",
    "# Calculate and print the factorial\n",
    "result = factorial(number)\n",
    "print(f\"{number}! = {result}\")"
   ]
  },
  {
   "cell_type": "code",
   "execution_count": 22,
   "id": "6e5cf274-508d-40ea-9d45-cd1e24f00022",
   "metadata": {},
   "outputs": [],
   "source": [
    "# Problem 6 - GCD using reduce()"
   ]
  },
  {
   "cell_type": "code",
   "execution_count": null,
   "id": "28209070-a202-4ed0-ae3f-c3a965b80cc1",
   "metadata": {},
   "outputs": [],
   "source": [
    "from functools import reduce\n",
    "import math\n",
    "\n",
    "# Define a custom function to find the GCD of two numbers\n",
    "def find_gcd(x, y):\n",
    "    return math.gcd(x, y)\n",
    "\n",
    "# List of numbers\n",
    "numbers = [12, 18, 24, 36]\n",
    "\n",
    "# Use reduce() to find the GCD of the numbers\n",
    "gcd = reduce(find_gcd, numbers)\n",
    "\n",
    "# Print the GCD\n",
    "print(\"The GCD of the numbers is:\", gcd)"
   ]
  },
  {
   "cell_type": "code",
   "execution_count": 24,
   "id": "fc8aa202-f7f2-4fed-acea-38da03a7a144",
   "metadata": {},
   "outputs": [],
   "source": [
    "# Problem 7 - Sum of digits using reduce()"
   ]
  },
  {
   "cell_type": "code",
   "execution_count": null,
   "id": "0592439b-79d7-4d6b-967c-4460b941211c",
   "metadata": {},
   "outputs": [],
   "source": [
    "from functools import reduce\n",
    "\n",
    "# Define a custom function to sum two digits\n",
    "def sum_digits(x, y):\n",
    "    return int(x) + int(y)\n",
    "\n",
    "# Input: Get the number from the user\n",
    "number = int(input(\"Enter a number: \"))\n",
    "\n",
    "# Convert the number to a string to access its digits\n",
    "number_str = str(number)\n",
    "\n",
    "# Use reduce() to find the sum of the digits\n",
    "digit_sum = reduce(sum_digits, number_str)\n",
    "\n",
    "# Print the sum of the digits\n",
    "print(f\"The sum of the digits of {number} is: {digit_sum}\")"
   ]
  },
  {
   "cell_type": "code",
   "execution_count": 26,
   "id": "da5bb9eb-1b67-4d14-95c9-fdd47eb29b52",
   "metadata": {},
   "outputs": [],
   "source": [
    "# --------------- FILTER function ---------------------------"
   ]
  },
  {
   "cell_type": "code",
   "execution_count": 27,
   "id": "8edc5cff-eb14-47b3-91f0-6090df0dad45",
   "metadata": {},
   "outputs": [],
   "source": [
    "# Problem 1 - Explaining filter()"
   ]
  },
  {
   "cell_type": "code",
   "execution_count": null,
   "id": "bd1961ea-c792-4bb0-8314-25a5fc180f55",
   "metadata": {},
   "outputs": [],
   "source": [
    "\"\"\"\n",
    "- The filter() function in Python is a built-in function used for filtering elements from an iterable \n",
    "(e.g., a list, tuple, or other iterable objects) based on a given function, \n",
    "which is often referred to as the \"filter function.\" \n",
    "\n",
    "- The primary purpose of the filter() function is to create a new iterable that contains \n",
    "only the elements from the original iterable for which the filter function returns True\n",
    "\n",
    "- Below is an exmaple of how it works\n",
    "\"\"\"\n",
    "\n",
    "# Define a filter function to check if a number is even\n",
    "def is_even(x):\n",
    "    return x % 2 == 0\n",
    "\n",
    "# List of numbers\n",
    "numbers = [1, 2, 3, 4, 5, 6, 7, 8, 9, 10]\n",
    "\n",
    "# Use filter() to filter even numbers from the list\n",
    "even_numbers = filter(is_even, numbers)\n",
    "\n",
    "# Convert the filter object to a list to see the results\n",
    "even_numbers_list = list(even_numbers)\n",
    "\n",
    "print(even_numbers_list)"
   ]
  },
  {
   "cell_type": "code",
   "execution_count": 29,
   "id": "a9b77e91-3772-4320-8caa-d8c6f8b77b61",
   "metadata": {},
   "outputs": [],
   "source": [
    "# Problem 2 - Even numbers from list of integers"
   ]
  },
  {
   "cell_type": "code",
   "execution_count": null,
   "id": "a83b7808-c9bc-45d6-a748-153a2f28a1a1",
   "metadata": {},
   "outputs": [],
   "source": [
    "# Define a filter function to check if a number is even\n",
    "def is_even(x):\n",
    "    return x % 2 == 0\n",
    "\n",
    "# List of numbers\n",
    "numbers = [1, 2, 3, 4, 5, 6, 7, 8, 9, 10]\n",
    "\n",
    "# Use filter() to filter even numbers from the list\n",
    "even_numbers = filter(is_even, numbers)\n",
    "\n",
    "# Convert the filter object to a list to see the results\n",
    "even_numbers_list = list(even_numbers)\n",
    "\n",
    "print(even_numbers_list)"
   ]
  },
  {
   "cell_type": "code",
   "execution_count": 31,
   "id": "d5dd2e68-bc1b-49d9-b03b-11546d3ad653",
   "metadata": {},
   "outputs": [],
   "source": [
    "# Problem 3 - Filter names starting with specific letter"
   ]
  },
  {
   "cell_type": "code",
   "execution_count": null,
   "id": "ffda29b0-841c-4165-adbd-49f10d0bc722",
   "metadata": {},
   "outputs": [],
   "source": [
    "# Define a filter function to select names that start with a specific letter\n",
    "def starts_with_letter(letter, name):\n",
    "    return name.startswith(letter)\n",
    "\n",
    "# List of names\n",
    "names = [\"Alice\", \"Bob\", \"Charlie\", \"David\", \"Ella\", \"Frank\"]\n",
    "\n",
    "# The letter to filter by\n",
    "letter_to_filter = \"C\"\n",
    "\n",
    "# Use filter() to select names that start with the specified letter\n",
    "selected_names = filter(lambda name: starts_with_letter(letter_to_filter, name), names)\n",
    "\n",
    "# Convert the filter object to a list to see the results\n",
    "selected_names_list = list(selected_names)\n",
    "\n",
    "# Print the selected names\n",
    "print(f\"Names that start with '{letter_to_filter}': {selected_names_list}\")"
   ]
  },
  {
   "cell_type": "code",
   "execution_count": 32,
   "id": "86a5f634-a556-4adf-9dd6-607f63aa3acf",
   "metadata": {},
   "outputs": [],
   "source": [
    "# Problem 4 - Filter prime numbers"
   ]
  },
  {
   "cell_type": "code",
   "execution_count": null,
   "id": "6f8502b4-e836-44c5-980f-fe8d8ae37adb",
   "metadata": {},
   "outputs": [],
   "source": [
    "# Define a function to check if a number is prime\n",
    "def is_prime(number):\n",
    "    if number <= 1:\n",
    "        return False\n",
    "    if number <= 3:\n",
    "        return True\n",
    "    if number % 2 == 0 or number % 3 == 0:\n",
    "        return False\n",
    "    i = 5\n",
    "    while i * i <= number:\n",
    "        if number % i == 0 or number % (i + 2) == 0:\n",
    "            return False\n",
    "        i += 6\n",
    "    return True\n",
    "\n",
    "# List of integers\n",
    "numbers = [2, 4, 5, 9, 10, 13, 17, 20]\n",
    "\n",
    "# Use filter() to select prime numbers from the list\n",
    "prime_numbers = filter(is_prime, numbers)\n",
    "\n",
    "# Convert the filter object to a list to see the results\n",
    "prime_numbers_list = list(prime_numbers)\n",
    "\n",
    "# Print the selected prime numbers\n",
    "print(\"Prime numbers from the list:\", prime_numbers_list)"
   ]
  },
  {
   "cell_type": "code",
   "execution_count": 34,
   "id": "830d1851-c663-4c18-ab70-be4f9b4afe2d",
   "metadata": {},
   "outputs": [],
   "source": [
    "# Problem 5 - Remove None from list using filters"
   ]
  },
  {
   "cell_type": "code",
   "execution_count": null,
   "id": "f644c57e-5e44-4db3-ac02-b1de3c62660b",
   "metadata": {},
   "outputs": [],
   "source": [
    "# List with some None values\n",
    "values = [1, None, 2, 3, None, 4, None, 5]\n",
    "\n",
    "# Use filter() to remove None values from the list\n",
    "filtered_values = filter(lambda x: x is not None, values)\n",
    "\n",
    "# Convert the filter object to a list to see the results\n",
    "filtered_values_list = list(filtered_values)\n",
    "\n",
    "# Print the list with None values removed\n",
    "print(\"List with None values removed:\", filtered_values_list)"
   ]
  },
  {
   "cell_type": "code",
   "execution_count": 36,
   "id": "138875d7-3a3f-41a7-8687-d4687e80e05f",
   "metadata": {},
   "outputs": [],
   "source": [
    "# Problem 6 - Select words longer than certain length"
   ]
  },
  {
   "cell_type": "code",
   "execution_count": null,
   "id": "42e3a41c-c48f-48a4-a13d-95f6c06ae885",
   "metadata": {},
   "outputs": [],
   "source": [
    "# Define a filter function to select words longer than a certain length\n",
    "def is_long_word(word, min_length):\n",
    "    return len(word) > min_length\n",
    "\n",
    "# List of strings (words)\n",
    "words = [\"apple\", \"banana\", \"cherry\", \"date\", \"elderberry\", \"fig\"]\n",
    "\n",
    "# Minimum length for words to be selected\n",
    "min_length = 5\n",
    "\n",
    "# Use filter() to select words longer than the specified length\n",
    "selected_words = filter(lambda word: is_long_word(word, min_length), words)\n",
    "\n",
    "# Convert the filter object to a list to see the results\n",
    "selected_words_list = list(selected_words)\n",
    "\n",
    "# Print the selected words\n",
    "print(f\"Words longer than {min_length} characters: {selected_words_list}\")"
   ]
  },
  {
   "cell_type": "code",
   "execution_count": 38,
   "id": "437b34c1-52a8-4a4c-9343-d9818354e9d4",
   "metadata": {},
   "outputs": [],
   "source": [
    "# Problem 7 - Threshold check"
   ]
  },
  {
   "cell_type": "code",
   "execution_count": null,
   "id": "99a7cf78-e0ab-47fa-8e0c-f9d554c6c0eb",
   "metadata": {},
   "outputs": [],
   "source": [
    "# Define a filter function to select elements greater than a threshold\n",
    "def greater_than_threshold(x, threshold):\n",
    "    return x > threshold\n",
    "\n",
    "# List of values\n",
    "values = [12, 8, 20, 5, 18, 25, 3, 15]\n",
    "\n",
    "# Threshold for selection\n",
    "threshold = 15\n",
    "\n",
    "# Use filter() to select elements greater than the threshold\n",
    "selected_values = filter(lambda x: greater_than_threshold(x, threshold), values)\n",
    "\n",
    "# Convert the filter object to a list to see the results\n",
    "selected_values_list = list(selected_values)\n",
    "\n",
    "# Print the selected values\n",
    "print(f\"Values greater than {threshold}: {selected_values_list}\")"
   ]
  },
  {
   "cell_type": "code",
   "execution_count": 41,
   "id": "f78e5443-45ec-4af1-885a-0c7c07c2563c",
   "metadata": {},
   "outputs": [],
   "source": [
    "# ----------------- RECURSION ------------------------"
   ]
  },
  {
   "cell_type": "code",
   "execution_count": null,
   "id": "cde8d602-0032-42a1-a1cf-d1ffc5bb4723",
   "metadata": {},
   "outputs": [],
   "source": [
    "# Problem 1 - Explanation"
   ]
  },
  {
   "cell_type": "code",
   "execution_count": null,
   "id": "13e505d1-80a5-4689-91c5-7160e64859a6",
   "metadata": {},
   "outputs": [],
   "source": [
    "\"\"\"\n",
    "Recursion is divided into three important parts:\n",
    "\n",
    "1) Base Case: A recursive function must have one or more base cases that determine when to stop the recursion. \n",
    "   These are situations in which the function returns a result without making any further recursive calls.\n",
    "\n",
    "2) Dividing into Smaller Problems: Recursion involves breaking down a problem into smaller, similar subproblems. \n",
    "   Each recursive call should address a smaller part of the problem.\n",
    "\n",
    "3) Call Stack: Each recursive call creates a new frame on the call stack, \n",
    "   which can lead to a stack overflow if the recursion goes too deep. \n",
    "   In Python, you can set a recursion depth limit using sys.setrecursionlimit(), \n",
    "   but it's generally not recommended to rely on this for deep recursions.\n",
    "   \n",
    "   ---------------------------------------------------------\n",
    "   \n",
    "Difference with iteration:\n",
    "\n",
    "1) Control Flow: Recursion relies on the function calling itself to solve problems, \n",
    "                 while iteration uses loops to repeatedly execute code.\n",
    "\n",
    "2) Ease of Use: Iteration is often more straightforward and easier to understand for linear and repetitive processes. \n",
    "                Recursion can be more elegant for problems with recursive structures but may be less intuitive.\n",
    "\n",
    "3) Stack Usage: Recursion uses the call stack to manage function calls, \n",
    "                which can lead to stack overflow errors for deep recursions. \n",
    "                Iteration uses a loop, which does not suffer from stack overflow.\n",
    "\"\"\"\n"
   ]
  },
  {
   "cell_type": "code",
   "execution_count": 42,
   "id": "4c37050c-47eb-4ba0-be8c-84850b53160d",
   "metadata": {},
   "outputs": [],
   "source": [
    "# Problem 2 - Factorial"
   ]
  },
  {
   "cell_type": "code",
   "execution_count": null,
   "id": "c12ac111-6032-490f-8345-0cc38c238de8",
   "metadata": {},
   "outputs": [],
   "source": [
    "def factorial(n):\n",
    "    if n == 0:\n",
    "        return 1  # Base case: 0! is defined as 1\n",
    "    else:\n",
    "        return n * factorial(n - 1)  # Recursive case\n",
    "\n",
    "# Input: Get the number from the user\n",
    "number = int(input(\"Enter a number: \"))\n",
    "\n",
    "# Calculate and print the factorial\n",
    "result = factorial(number)\n",
    "print(f\"{number}! = {result}\")"
   ]
  },
  {
   "cell_type": "code",
   "execution_count": 43,
   "id": "afc64c72-04dc-4e5b-8d5d-b13497ef2421",
   "metadata": {},
   "outputs": [],
   "source": [
    "# Problem 3 - Nth Fibonacci number"
   ]
  },
  {
   "cell_type": "code",
   "execution_count": null,
   "id": "fc725e38-c500-44cd-8aa1-23b23e5f626d",
   "metadata": {},
   "outputs": [],
   "source": [
    "def fibonacci(n):\n",
    "    if n <= 0:\n",
    "        return 0  # Base case: 0th Fibonacci number is 0\n",
    "    elif n == 1:\n",
    "        return 1  # Base case: 1st Fibonacci number is 1\n",
    "    else:\n",
    "        return fibonacci(n - 1) + fibonacci(n - 2)  # Recursive case\n",
    "\n",
    "# Input: Get the value of n from the user\n",
    "n = int(input(\"Enter the value of n: \"))\n",
    "\n",
    "# Calculate and print the nth Fibonacci number\n",
    "result = fibonacci(n)\n",
    "print(f\"The {n}th Fibonacci number is: {result}\")"
   ]
  },
  {
   "cell_type": "code",
   "execution_count": 45,
   "id": "f977a8a8-8251-4c38-ade7-f6a533b9007c",
   "metadata": {},
   "outputs": [],
   "source": [
    "# Problem 4 - Sum of all elements in list"
   ]
  },
  {
   "cell_type": "code",
   "execution_count": null,
   "id": "0b20fc46-d684-48ea-8f39-ec38124dcdd7",
   "metadata": {},
   "outputs": [],
   "source": [
    "def recursive_sum(lst):\n",
    "    if not lst:\n",
    "        return 0  # Base case: an empty list has a sum of 0\n",
    "    else:\n",
    "        return lst[0] + recursive_sum(lst[1:])  # Recursive case\n",
    "\n",
    "# Example list of numbers\n",
    "numbers = [1, 2, 3, 4, 5]\n",
    "\n",
    "# Calculate and print the sum of the list\n",
    "result = recursive_sum(numbers)\n",
    "print(f\"The sum of the list is: {result}\")"
   ]
  },
  {
   "cell_type": "code",
   "execution_count": 47,
   "id": "f02c0756-ca08-48be-acf3-3cbb6a76657b",
   "metadata": {},
   "outputs": [],
   "source": [
    "# Problem 5 - Preventing stack overflow"
   ]
  },
  {
   "cell_type": "code",
   "execution_count": null,
   "id": "cbf8d37f-4fe7-4524-b0bd-1640a9a5a73e",
   "metadata": {},
   "outputs": [],
   "source": [
    "\"\"\"\n",
    "- Define Base Cases: Every recursive function should have one or more base cases that provide a termination condition. \n",
    "                     The base cases are situations in which the function returns a result without making any further \n",
    "                    recursive calls. Ensure that your base cases are well-defined and reachable.\n",
    "\n",
    "- Ensure Progress: In each recursive step, make sure that the function moves closer to a base case. \n",
    "                   This typically involves reducing the size of the problem or moving to a simpler instance of the problem.\n",
    "\n",
    "- Use Proper Control Flow: Control the flow of the recursion to ensure that it follows a well-defined path towards \n",
    "                    the base case. Verify that you're making progress and reducing the input in each recursive call.\n",
    "\n",
    "- Limit Recursion Depth: In Python, you can set a recursion depth limit using sys.setrecursionlimit(). \n",
    "                         However, it's generally not recommended to rely on this, and it's better to structure your \n",
    "                        recursion properly.\n",
    "\n",
    "- Debug and Test: Debug your recursive function by adding print statements to trace its execution. \n",
    "                  Test it with various inputs to ensure it behaves as expected and doesn't lead to infinite recursion.\n",
    "\n",
    "- Tail Recursion: Some programming languages support tail call optimization, which eliminates the need for \n",
    "                  additional stack frames in tail-recursive functions. Python does not natively support \n",
    "                tail call optimization, so be cautious when using recursion for deep calls.\n",
    "\n",
    "- Iterative Solution: In cases where deep recursion is a concern, consider rewriting the recursive function as \n",
    "                    an iterative one using loops. This can often improve performance and \n",
    "                    reduce the risk of stack overflow.\n",
    "\"\"\""
   ]
  },
  {
   "cell_type": "code",
   "execution_count": 48,
   "id": "b2204909-58ea-4b54-86d5-84c131772890",
   "metadata": {},
   "outputs": [],
   "source": [
    "# Problem 6 - GCD using Eucleadian Algo"
   ]
  },
  {
   "cell_type": "code",
   "execution_count": null,
   "id": "76912404-bdac-412a-b4c8-9e369210a886",
   "metadata": {},
   "outputs": [],
   "source": [
    "def euclidean_gcd(a, b):\n",
    "    if b == 0:\n",
    "        return a  # Base case: GCD(a, 0) = a\n",
    "    else:\n",
    "        return euclidean_gcd(b, a % b)  # Recursive case\n",
    "\n",
    "# Input: Get the two numbers from the user\n",
    "a = int(input(\"Enter the first number: \"))\n",
    "b = int(input(\"Enter the second number: \"))\n",
    "\n",
    "# Calculate and print the GCD using the Euclidean algorithm\n",
    "result = euclidean_gcd(a, b)\n",
    "print(f\"The GCD of {a} and {b} is: {result}\")"
   ]
  },
  {
   "cell_type": "code",
   "execution_count": null,
   "id": "2922a74e-62a9-4e31-93a1-fd9b892812e9",
   "metadata": {},
   "outputs": [],
   "source": [
    "# Problem 7 - Reverse string"
   ]
  },
  {
   "cell_type": "code",
   "execution_count": null,
   "id": "8ddbb0f9-8e94-4b0a-a8c8-7328d05e613d",
   "metadata": {},
   "outputs": [],
   "source": [
    "# Function to reverse string\n",
    "\n",
    "\"\"\"\n",
    "- data is the input to this function - rev_str()\n",
    "- It will check in base case if the length of the input is 0 or 1\n",
    "- If 0, that will be a custom error message returned\n",
    "- If 1, the string itself will be returned\n",
    "\n",
    "\"\"\"\n",
    "def rev_str(data):\n",
    "    if len(data) == 0:\n",
    "        return \"Cannot reverse something which is empty!\"\n",
    "    if len(data) == 1:\n",
    "        return data\n",
    "    return rev_str(data[1:]) + data[0]\n",
    "\n",
    "data = input(\"Enter any string of your choice: \").strip()\n",
    "\n",
    "print(f\"Reversed string - {rev_str(data)}\")"
   ]
  },
  {
   "cell_type": "code",
   "execution_count": 53,
   "id": "9585be18-df8d-4d56-9b57-f7ba62835087",
   "metadata": {},
   "outputs": [],
   "source": [
    "# Problem 8 - Power of number"
   ]
  },
  {
   "cell_type": "code",
   "execution_count": null,
   "id": "29037058-9e27-4ebd-a06c-16b3acc29ce2",
   "metadata": {},
   "outputs": [],
   "source": [
    "def power(x, n):\n",
    "    if n == 0:\n",
    "        return 1  # Base case: x^0 is defined as 1\n",
    "    else:\n",
    "        return x * power(x, n - 1)  # Recursive case\n",
    "\n",
    "# Input: Get the base (x) and exponent (n) from the user\n",
    "x = float(input(\"Enter the base (x): \"))\n",
    "n = int(input(\"Enter the exponent (n): \"))\n",
    "\n",
    "# Calculate and print the result\n",
    "result = power(x, n)\n",
    "print(f\"{x}^{n} = {result}\")"
   ]
  },
  {
   "cell_type": "code",
   "execution_count": 55,
   "id": "4fcc11ca-4221-4a14-bcce-d8fd567e1409",
   "metadata": {},
   "outputs": [],
   "source": [
    "# Problem 9 - permutations of string"
   ]
  },
  {
   "cell_type": "code",
   "execution_count": null,
   "id": "a1273d20-e590-46d6-8b6c-91e3546c2fb1",
   "metadata": {},
   "outputs": [],
   "source": [
    "def get_permutations(s):\n",
    "    # Base case: If the string has only one character or is empty, return a list with that string\n",
    "    if len(s) <= 1:\n",
    "        return [s]\n",
    "\n",
    "    # Recursive case\n",
    "    permutations = []\n",
    "    for i, char in enumerate(s):\n",
    "        remaining_chars = s[:i] + s[i+1:]\n",
    "        for perm in get_permutations(remaining_chars):\n",
    "            permutations.append(char + perm)\n",
    "\n",
    "    return permutations\n",
    "\n",
    "# Input: Get the string from the user\n",
    "input_string = input(\"Enter a string: \")\n",
    "\n",
    "# Find and print all permutations\n",
    "permutations = get_permutations(input_string)\n",
    "print(\"All permutations of the string:\")\n",
    "for perm in permutations:\n",
    "    print(perm)"
   ]
  },
  {
   "cell_type": "code",
   "execution_count": 56,
   "id": "fa98b39f-ae02-4af9-be76-f06cc285e754",
   "metadata": {},
   "outputs": [],
   "source": [
    "# Problem 10 - Check palindrome string"
   ]
  },
  {
   "cell_type": "code",
   "execution_count": null,
   "id": "a5a21446-cde9-41e1-a5d2-4d1e5833f8b5",
   "metadata": {},
   "outputs": [],
   "source": [
    "\"\"\"\n",
    "- Here we check the base case for 0 or 1 character in a string\n",
    "\n",
    "- For the main logic, I have divided it into following:\n",
    "    - Set faith - check_palindrome(data[1:len(data) - 1]) will definitely check whether that part of string\n",
    "      is palindromic or not\n",
    "      \n",
    "    - To meet the overall expectation, I have done the least min thing:\n",
    "      check for the first and last character of the string\n",
    "      \n",
    "    - FInally combine the two bool results and return the value\n",
    "\"\"\"\n",
    "\n",
    "def check_palindrome(data):\n",
    "    # Base case - string might be empty or has only one character\n",
    "    # Will return True in that case\n",
    "    if len(data) <= 1:\n",
    "        return True\n",
    "    return check_palindrome(data[1:len(data) - 1]) and data[0] == data[-1]\n",
    "\n",
    "data = input(\"Enter any string of your choice: \").strip()\n",
    "print(f\"{data} is palindrome\") if check_palindrome(data) else print(f\"{data} is not palindrome\")"
   ]
  },
  {
   "cell_type": "code",
   "execution_count": 61,
   "id": "e95c473b-a216-4a1b-b4d7-4a30244f1be5",
   "metadata": {},
   "outputs": [],
   "source": [
    "# Problem 11 - All possible combinations"
   ]
  },
  {
   "cell_type": "code",
   "execution_count": null,
   "id": "25badbd0-23a0-4711-8bf0-835ef76d60a3",
   "metadata": {},
   "outputs": [],
   "source": [
    "def generate_combinations(elements, r):\n",
    "    def combinations_helper(elements, r, current_combination, index):\n",
    "        if r == 0:\n",
    "            combinations.append(current_combination[:])  # Add a copy of the current combination to the list\n",
    "            return\n",
    "        if index >= len(elements):\n",
    "            return\n",
    "\n",
    "        # Include the current element in the combination\n",
    "        current_combination.append(elements[index])\n",
    "        combinations_helper(elements, r - 1, current_combination, index + 1)\n",
    "\n",
    "        # Exclude the current element from the combination\n",
    "        current_combination.pop()\n",
    "        combinations_helper(elements, r, current_combination, index + 1)\n",
    "\n",
    "    combinations = []\n",
    "    combinations_helper(elements, r, [], 0)\n",
    "    return combinations\n",
    "\n",
    "# Input: Get the list of elements and the combination size from the user\n",
    "elements = input(\"Enter a list of elements (comma-separated): \").split(',')\n",
    "r = int(input(\"Enter the combination size (r): \"))\n",
    "\n",
    "# Remove leading/trailing spaces from elements\n",
    "elements = [element.strip() for element in elements]\n",
    "\n",
    "# Generate and print all combinations\n",
    "combinations = generate_combinations(elements, r)\n",
    "print(\"All combinations:\")\n",
    "for combo in combinations:\n",
    "    print(combo)"
   ]
  },
  {
   "cell_type": "code",
   "execution_count": 63,
   "id": "0fbdc85a-8bbb-4ad7-99da-c1d11570a75c",
   "metadata": {},
   "outputs": [],
   "source": [
    "# -------------------- Python Functions ------------------------\n",
    "# Although I have used ton of functions in my previous solutions, still it's great to explore again :)"
   ]
  },
  {
   "cell_type": "code",
   "execution_count": 64,
   "id": "cc6b7cf1-bf8f-45b5-9282-cff6f55f2b63",
   "metadata": {},
   "outputs": [],
   "source": [
    "# Problem 1 - What is function"
   ]
  },
  {
   "cell_type": "code",
   "execution_count": null,
   "id": "a0d6fef9-ca2f-4afd-9c14-e62d60b310f4",
   "metadata": {},
   "outputs": [],
   "source": [
    "\"\"\"\n",
    "- In Python, a function is a named block of code that performs a specific task or a set of related tasks\n",
    "\n",
    "- Below are it's purposes:\n",
    "\n",
    "Modularity: Functions allow you to break down a program into smaller, more manageable parts. \n",
    "            You can create functions for specific tasks and reuse them in different parts of your program, \n",
    "            improving code organization and making it easier to understand, maintain, and debug.\n",
    "\n",
    "Abstraction: Functions provide a level of abstraction. \n",
    "             They encapsulate the implementation details of a task, allowing you to work with a function \n",
    "            at a higher level without needing to know how it accomplishes its task. \n",
    "            This abstraction simplifies the development process.\n",
    "\n",
    "Reusability: You can define a function once and use it multiple times in your code. \n",
    "             This reusability not only saves you from duplicating code but also ensures that changes or updates \n",
    "            to a specific task can be applied uniformly by modifying the function.\n",
    "\n",
    "Readability: Functions make your code more readable by giving meaningful names to specific operations. \n",
    "             A well-named function can convey the purpose of a piece of code at a glance, enhancing code readability \n",
    "            and maintainability.\n",
    "\n",
    "Parameterization: Functions can accept input data through parameters (arguments), which allows you to customize their \n",
    "                behavior by passing different values when calling them. \n",
    "                This parameterization makes your code more flexible and versatile.\n",
    "\n",
    "Encapsulation: Functions can encapsulate logic and data, making it possible to create reusable, \n",
    "               self-contained units. This can lead to better software design and implementation.\n",
    "\n",
    "Testing and Debugging: Functions can be tested and debugged independently of the rest of the code. \n",
    "                       This facilitates the identification and resolution of issues, as you can focus on \n",
    "                       specific parts of the code in isolation\n",
    "\"\"\""
   ]
  },
  {
   "cell_type": "code",
   "execution_count": 65,
   "id": "0207c01b-3032-4d9c-a8fa-41a33dc5c7ff",
   "metadata": {},
   "outputs": [],
   "source": [
    "# Problem 2 - Function example"
   ]
  },
  {
   "cell_type": "code",
   "execution_count": null,
   "id": "9480fd25-7100-4642-9128-9725bca81c43",
   "metadata": {},
   "outputs": [],
   "source": [
    "\"\"\"\n",
    "Here is a basic example of a function in python:\n",
    "\n",
    "- It takes a name as input and greets that person\n",
    "\n",
    "\"\"\"\n",
    "\n",
    "def greet(name):\n",
    "    \"\"\"This function greets the person passed in as a parameter.\"\"\"\n",
    "    print(f\"Hello, {name}!\")\n",
    "\n",
    "# Calling the function\n",
    "greet(\"Alice\")"
   ]
  },
  {
   "cell_type": "code",
   "execution_count": 66,
   "id": "17534195-0e3a-46a9-a168-5a14ee6b73b0",
   "metadata": {},
   "outputs": [],
   "source": [
    "# Problem 3 - Function definition vs function call"
   ]
  },
  {
   "cell_type": "code",
   "execution_count": null,
   "id": "3fc952f2-2512-4753-aa5c-a4ed2dd959ef",
   "metadata": {},
   "outputs": [],
   "source": [
    "\"\"\"\n",
    "Function Definition:\n",
    "\n",
    "- A function definition is the creation of a function. It involves specifying the function's name, its parameters (if any), \n",
    "  and the code that the function will execute.\n",
    "\n",
    "- It defines the structure and behavior of the function. It is like creating a blueprint or a template for a task \n",
    "  that the function will perform.\n",
    "  \n",
    "  -----------------------------------------\n",
    "  \n",
    "Function Call:\n",
    "\n",
    "- A function call is the execution of a function. It involves using the function's name and providing values (arguments) \n",
    "  for its parameters, as necessary.\n",
    "\n",
    "- When you call a function, you are instructing the program to run the code within the function definition with \n",
    "  the provided arguments.\n",
    "\n",
    "- Function calls are made wherever you want to use the functionality of the function in your code. \n",
    "  You can call a function as many times as needed.\n",
    "\"\"\""
   ]
  },
  {
   "cell_type": "code",
   "execution_count": 67,
   "id": "9b88b3d2-1a43-4f44-9847-4d1119b389dd",
   "metadata": {},
   "outputs": [],
   "source": [
    "# Problem 4 - Sum of two numbers"
   ]
  },
  {
   "cell_type": "code",
   "execution_count": null,
   "id": "5da935e8-ab79-4bca-8c92-fd6accae5f9d",
   "metadata": {},
   "outputs": [],
   "source": [
    "# Define a function to calculate the sum of two numbers\n",
    "def add_numbers(a, b):\n",
    "    return a + b\n",
    "\n",
    "# Input: Get two numbers from the user\n",
    "num1 = float(input(\"Enter the first number: \"))\n",
    "num2 = float(input(\"Enter the second number: \"))\n",
    "\n",
    "# Call the function to calculate the sum\n",
    "result = add_numbers(num1, num2)\n",
    "\n",
    "# Print the result\n",
    "print(f\"The sum of {num1} and {num2} is: {result}\")"
   ]
  },
  {
   "cell_type": "code",
   "execution_count": 68,
   "id": "e45c75c4-5c82-4aae-83c8-bb0c8b2282dd",
   "metadata": {},
   "outputs": [],
   "source": [
    "# Problem 5 - FUnction signature example"
   ]
  },
  {
   "cell_type": "code",
   "execution_count": null,
   "id": "3388272c-4965-4588-8be7-ca965ab71595",
   "metadata": {},
   "outputs": [],
   "source": [
    "# Below is an example of how a function signature looks like in Python\n",
    "\n",
    "def calculate_area(length: float, width: float) -> float:\n",
    "    \"\"\"\n",
    "    Calculates the area of a rectangle given its length and width.\n",
    "\n",
    "    Args:\n",
    "        length (float): The length of the rectangle.\n",
    "        width (float): The width of the rectangle.\n",
    "\n",
    "    Returns:\n",
    "        float: The area of the rectangle.\n",
    "    \"\"\"\n",
    "    pass"
   ]
  },
  {
   "cell_type": "code",
   "execution_count": 69,
   "id": "39c71677-2319-41d8-be4c-8c46a9002b37",
   "metadata": {},
   "outputs": [],
   "source": [
    "# Problem 6 - Python function returning product of numbers"
   ]
  },
  {
   "cell_type": "code",
   "execution_count": null,
   "id": "d5dec92b-b526-419c-b91e-330380af025f",
   "metadata": {},
   "outputs": [],
   "source": [
    "def multiply(a, b):\n",
    "    return a * b\n",
    "\n",
    "# Example usage:\n",
    "result = multiply(5, 3)\n",
    "print(\"The product of 5 and 3 is:\", result)"
   ]
  },
  {
   "cell_type": "code",
   "execution_count": 1,
   "id": "a381fd57-ac79-4051-9f47-ccd7056a2ce3",
   "metadata": {},
   "outputs": [],
   "source": [
    "# --------------- FUNCTION PARAMS AND ARGUMENTS ---------------------------"
   ]
  },
  {
   "cell_type": "code",
   "execution_count": null,
   "id": "f8866685-3380-4d7b-8a65-54f4f5f56428",
   "metadata": {},
   "outputs": [],
   "source": [
    "# Problem 1 - Definition of function"
   ]
  },
  {
   "cell_type": "code",
   "execution_count": 2,
   "id": "f5cb6a64-cf12-4fe9-a6a6-dc59b34a3401",
   "metadata": {},
   "outputs": [],
   "source": [
    "\"\"\"\n",
    "1) Formal Parameters:\n",
    "\n",
    "- Formal parameters, often simply called \"parameters,\" are placeholders within the function definition \n",
    "  that specify what kind of data or values a function expects to receive when it is called.\n",
    "  \n",
    "- These parameters are like variables defined in the function's parameter list, \n",
    "  and they serve as input placeholders.\n",
    "  \n",
    "- We define formal parameters in the function signature, inside the parentheses following the function name. \n",
    "  They can have names and data types, which act as labels and hints for the kind of input that the function requires.\n",
    "  \n",
    "- Below is an example:\n",
    "\"\"\"\n",
    "\n",
    "def add_numbers(x, y):\n",
    "    result = x + y\n",
    "    return result\n",
    "\n",
    "\"\"\"\n",
    "2) Actual arguments:\n",
    "\n",
    "- Actual arguments, often referred to as \"arguments\" or \"values,\" are the concrete values or data \n",
    "  that we pass to a function when you call it. These values are used to fill in the placeholders defined \n",
    "  by the formal parameters.\n",
    "  \n",
    "- Actual arguments can be variables, literals, or expressions, and they provide the actual data \n",
    "  for the function to work with.\n",
    "  \n",
    "- When we call a function, you pass actual arguments in the order in which the formal parameters \n",
    "  are defined in the function signature. These arguments are assigned to the corresponding formal parameters \n",
    "   based on their position.\n",
    "   \n",
    "- Here is an example:\n",
    "\"\"\"\n",
    "\n",
    "result = add_numbers(5, 3)"
   ]
  },
  {
   "cell_type": "code",
   "execution_count": 3,
   "id": "ec5751a1-fbea-48b7-856c-bd528d3e75fa",
   "metadata": {},
   "outputs": [],
   "source": [
    "# Problem 2 - Function with args"
   ]
  },
  {
   "cell_type": "code",
   "execution_count": null,
   "id": "94fc4fc7-42fd-427e-92ce-81d292e7f679",
   "metadata": {},
   "outputs": [],
   "source": [
    "def greet(name, greeting=\"Hello\"):\n",
    "    \"\"\"\n",
    "    This function greets a person with the given name using the provided greeting.\n",
    "\n",
    "    :param name: The name of the person to greet.\n",
    "    :param greeting: The greeting message to use (default is \"Hello\").\n",
    "    :return: A formatted greeting message.\n",
    "    \"\"\"\n",
    "    return f\"{greeting}, {name}!\"\n",
    "\n",
    "# Call the function with both arguments provided\n",
    "print(greet(\"Alice\", \"Hi\"))\n",
    "\n",
    "# Call the function with only the 'name' argument (uses the default greeting)\n",
    "print(greet(\"Bob\"))\n",
    "\n",
    "# Call the function with both arguments provided in a different order\n",
    "print(greet(greeting=\"Hey\", name=\"Charlie\"))"
   ]
  },
  {
   "cell_type": "code",
   "execution_count": 4,
   "id": "b844b79e-9487-421e-a4a6-ca5643c5ffb8",
   "metadata": {},
   "outputs": [],
   "source": [
    "# Problem 3 - Keyword arguments"
   ]
  },
  {
   "cell_type": "code",
   "execution_count": null,
   "id": "e8923e68-23a1-4aaf-a4dc-558d1b7ab2a7",
   "metadata": {},
   "outputs": [],
   "source": [
    "def calculate_total_cost(price, quantity, discount=0):\n",
    "    \"\"\"\n",
    "    Calculate the total cost based on the given price, quantity, and an optional discount.\n",
    "\n",
    "    :param price: The unit price of the item.\n",
    "    :param quantity: The quantity of items.\n",
    "    :param discount: An optional discount percentage (default is 0).\n",
    "    :return: The total cost.\n",
    "    \"\"\"\n",
    "    discounted_price = price * (1 - discount / 100)\n",
    "    total_cost = discounted_price * quantity\n",
    "    return total_cost\n",
    "\n",
    "# Using keyword arguments to call the function\n",
    "total1 = calculate_total_cost(price=10, quantity=5, discount=10)\n",
    "total2 = calculate_total_cost(price=8, quantity=3)  # No discount provided, so it uses the default value\n",
    "\n",
    "print(f\"Total cost 1: ${total1:.2f}\")\n",
    "print(f\"Total cost 2: ${total2:.2f}\")"
   ]
  },
  {
   "cell_type": "code",
   "execution_count": 6,
   "id": "a53fe3ef-b2b2-4bb3-8c50-52d668c7a49e",
   "metadata": {},
   "outputs": [],
   "source": [
    "# Problem 4 - Usage of *args"
   ]
  },
  {
   "cell_type": "code",
   "execution_count": null,
   "id": "e1c021a8-3cb4-4e45-815e-468422c31ca5",
   "metadata": {},
   "outputs": [],
   "source": [
    "def calculate_sum(*args):\n",
    "    \"\"\"\n",
    "    Calculate the sum of a variable number of arguments.\n",
    "\n",
    "    :param args: A variable number of numeric values to sum.\n",
    "    :return: The sum of the input values.\n",
    "    \"\"\"\n",
    "    total = 0\n",
    "    for num in args:\n",
    "        total += num\n",
    "    return total\n",
    "\n",
    "# Example usages of the function\n",
    "result1 = calculate_sum(1, 2, 3, 4, 5)\n",
    "result2 = calculate_sum(10, 20, 30)\n",
    "result3 = calculate_sum(2, 4, 6, 8, 10, 12)\n",
    "\n",
    "print(f\"Result 1: {result1}\")\n",
    "print(f\"Result 2: {result2}\")\n",
    "print(f\"Result 3: {result3}\")"
   ]
  },
  {
   "cell_type": "code",
   "execution_count": 7,
   "id": "4b7c89a0-139e-4f48-942a-618c5adaef1c",
   "metadata": {},
   "outputs": [],
   "source": [
    "# Problem 5 - usage of *args and **kwargs"
   ]
  },
  {
   "cell_type": "code",
   "execution_count": null,
   "id": "1483046c-aac8-4ee2-b99b-48c65ee4711a",
   "metadata": {},
   "outputs": [],
   "source": [
    "\"\"\"\n",
    "- *args is used to pass a variable number of non-keyword (positional) arguments to a function. \n",
    "   The asterisk (*) before \"args\" indicates that any number of positional arguments can be passed to the function.\n",
    "   \n",
    "- These arguments are collected into a tuple, and we can access them using their positions within the tuple.\n",
    "\n",
    "- It allows us to create functions that can handle different numbers of arguments without explicitly \n",
    "  defining them in the function signature.\n",
    "  \n",
    "- Below is an example:\n",
    "\"\"\"\n",
    "\n",
    "def calculate_sum(*args):\n",
    "    total = 0\n",
    "    for num in args:\n",
    "        total += num\n",
    "    return total\n",
    "\n",
    "calculate_sum(1, 2, 3, 4, 5)  # Can accept any number of values\n",
    "\n",
    "\"\"\"\n",
    "- **kwargs is used to pass a variable number of keyword arguments to a function. \n",
    "   The double asterisk (**) before \"kwargs\" indicates that any number of keyword arguments can be passed to the function.\n",
    "   \n",
    "- These keyword arguments are collected into a dictionary, and we can access them using their parameter names as keys.\n",
    "\n",
    "- It allows us to create functions that accept additional named parameters without having to define them \n",
    "  explicitly in the function signature\n",
    "  \n",
    "- Below is an example:\n",
    "\"\"\"\n",
    "\n",
    "def display_info(**kwargs):\n",
    "    for key, value in kwargs.items():\n",
    "        print(f\"{key}: {value}\")\n",
    "\n",
    "display_info(name=\"Alice\", age=30, city=\"New York\")  # Can accept any number of keyword arguments"
   ]
  },
  {
   "cell_type": "code",
   "execution_count": null,
   "id": "7d4ef46d-5c20-4419-88d6-bbe301d93594",
   "metadata": {},
   "outputs": [],
   "source": [
    "# ------------------ RETURN VALUES AND SCOPING --------------------"
   ]
  },
  {
   "cell_type": "code",
   "execution_count": 8,
   "id": "6c3e31a8-b0f4-44f9-8d3c-799e7df764ce",
   "metadata": {},
   "outputs": [],
   "source": [
    "# Problem 1 - Explaining return"
   ]
  },
  {
   "cell_type": "code",
   "execution_count": null,
   "id": "b65810e7-d4b0-442b-b3d7-5745ec884d10",
   "metadata": {},
   "outputs": [],
   "source": [
    "\"\"\"\n",
    "- Returning Values: It allows a function to return a result or value to the caller. \n",
    "  This value can be used in the caller's context or assigned to a variable.\n",
    "\n",
    "- Terminating the Function: The return statement also acts as an exit point for the function. \n",
    "  When a return statement is encountered, the function immediately exits, and no further code within the function is executed.\n",
    "\n",
    "- Returning None: If a function does not explicitly include a return statement, it implicitly returns None.\n",
    "\n",
    "\"\"\"\n",
    "\n",
    "# Here is a code example:\n",
    "\n",
    "def add(a, b):\n",
    "    result = a + b\n",
    "    return result\n",
    "\n",
    "sum_result = add(3, 5)\n",
    "print(sum_result)  # Output: 8"
   ]
  },
  {
   "cell_type": "code",
   "execution_count": null,
   "id": "8a9fbea9-a03e-4e95-886f-7bf8d7e8aa3a",
   "metadata": {},
   "outputs": [],
   "source": [
    "# Problem 2 - Variable scoping"
   ]
  },
  {
   "cell_type": "code",
   "execution_count": null,
   "id": "931081db-b800-4965-ab0f-ca47975ba344",
   "metadata": {},
   "outputs": [],
   "source": [
    "\"\"\"\n",
    "      ----------------- LOCAL VARIABLE ----------------------\n",
    "- Local variables are variables that are defined within a function or a code block (e.g., a loop or conditional statement). \n",
    "  They are only accessible within the specific function or block where they are defined.\n",
    "  \n",
    "- Local variables have a limited lifetime. They are created when the function is called or when the block is executed, \n",
    "  and they cease to exist once the function exits or the block is completed.\n",
    "  \n",
    "- Attempting to access a local variable outside of its defined scope will result in a NameError.\n",
    "\n",
    "- Local variables take precedence over global variables with the same name within the local scope.\n",
    "\n",
    "    ----------------------- GLOBAL VARIABLE -----------------------\n",
    "    \n",
    "- Global variables are defined in the main body of a Python script or at the top level of a module. \n",
    "  They are accessible from anywhere in the program, including within functions.\n",
    "  \n",
    "- Global variables have a broader scope, and they persist throughout the entire program's execution.\n",
    "\n",
    "- If a variable is referenced within a function without being explicitly declared as global, \n",
    "  Python assumes it is a local variable within that function, and changes to it will not affect the global variable \n",
    "  of the same name.\n",
    "\"\"\"\n",
    "\n",
    "# Example of local variable\n",
    "def my_function():\n",
    "    x = 10  # x is a local variable\n",
    "    print(x)\n",
    "\n",
    "my_function()\n",
    "print(x)  # This will raise a NameError because x is not defined in the global scope\n",
    "\n",
    "# Example of global variable\n",
    "x = 10  # x is a global variable\n",
    "\n",
    "def my_function():\n",
    "    print(x)  # Accessing the global variable\n",
    "\n",
    "my_function()\n",
    "print(x)  # Global variable's value is accessible and remains unchanged"
   ]
  },
  {
   "cell_type": "code",
   "execution_count": 9,
   "id": "a007f826-137e-4a14-af00-e98228f0628f",
   "metadata": {},
   "outputs": [],
   "source": [
    "# Problem 3 - Usage of global variable"
   ]
  },
  {
   "cell_type": "code",
   "execution_count": null,
   "id": "19e42249-e754-4b8d-9de5-d9e2df3625a4",
   "metadata": {},
   "outputs": [],
   "source": [
    "# Global variable\n",
    "global_var = 10\n",
    "\n",
    "def increment_global():\n",
    "    global global_var  # Declare that we're working with the global global_var\n",
    "    global_var += 5\n",
    "\n",
    "def multiply_by_global(n):\n",
    "    return n * global_var\n",
    "\n",
    "def main():\n",
    "    print(\"Global variable before increment:\", global_var)\n",
    "    \n",
    "    increment_global()\n",
    "    print(\"Global variable after increment:\", global_var)\n",
    "    \n",
    "    result = multiply_by_global(3)\n",
    "    print(\"Result of multiplying by the global variable:\", result)\n",
    "\n",
    "if __name__ == \"__main__\":\n",
    "    main()"
   ]
  },
  {
   "cell_type": "code",
   "execution_count": 11,
   "id": "222e2dad-9e44-494a-a5d6-88723243103c",
   "metadata": {},
   "outputs": [],
   "source": [
    "# Problem 4 - Function to write factorial"
   ]
  },
  {
   "cell_type": "code",
   "execution_count": null,
   "id": "037d3a77-9452-4fdd-9bef-9abdf0ce7edc",
   "metadata": {},
   "outputs": [],
   "source": [
    "def factorial(n):\n",
    "    \"\"\"\n",
    "    Calculate the factorial of a non-negative integer 'n'.\n",
    "\n",
    "    :param n: Non-negative integer for which to calculate the factorial.\n",
    "    :return: The factorial of 'n'.\n",
    "    \"\"\"\n",
    "    if n < 0:\n",
    "        return \"Factorial is not defined for negative numbers\"\n",
    "    elif n == 0 or n == 1:\n",
    "        return 1\n",
    "    else:\n",
    "        result = 1\n",
    "        for i in range(2, n + 1):\n",
    "            result *= i\n",
    "        return result\n",
    "\n",
    "# Example usages\n",
    "n = 5\n",
    "result = factorial(n)\n",
    "print(f\"The factorial of {n} is {result}\")\n",
    "\n",
    "n = 0\n",
    "result = factorial(n)\n",
    "print(f\"The factorial of {n} is {result}\")"
   ]
  },
  {
   "cell_type": "code",
   "execution_count": 12,
   "id": "e48ddd72-1aa5-4cbd-9102-b54990b1c21d",
   "metadata": {},
   "outputs": [],
   "source": [
    "# Problem 5 - Accessing vars froma  function which is defined outside\n",
    "# This is same as the global var concept which is discussed above\n",
    "# Below is another example"
   ]
  },
  {
   "cell_type": "code",
   "execution_count": null,
   "id": "f915b8d4-ffd4-4231-a2fc-1e36138d037c",
   "metadata": {},
   "outputs": [],
   "source": [
    "global_var = 10  # This is a global variable\n",
    "\n",
    "def modify_global():\n",
    "    global global_var  # Declare that we're working with the global global_var\n",
    "    global_var += 5  # Modifying the global variable\n",
    "\n",
    "def main():\n",
    "    print(\"Global variable before modification:\", global_var)\n",
    "    \n",
    "    modify_global()\n",
    "    print(\"Global variable after modification:\", global_var)\n",
    "\n",
    "if __name__ == \"__main__\":\n",
    "    main()"
   ]
  },
  {
   "cell_type": "code",
   "execution_count": 13,
   "id": "919dc5a9-566a-4345-bf49-71ca79e0f451",
   "metadata": {},
   "outputs": [],
   "source": [
    "# -------------- LAMBDA AND HIGHER-ORDER FUNCTIONS ------------------"
   ]
  },
  {
   "cell_type": "code",
   "execution_count": null,
   "id": "1cbff582-ae08-4d3e-8d8a-a0b43b6bf8fd",
   "metadata": {},
   "outputs": [],
   "source": [
    "# Problem 1 - Definition of lambda function"
   ]
  },
  {
   "cell_type": "code",
   "execution_count": null,
   "id": "3f8604c1-42fb-4c44-bf05-fb7121de92f3",
   "metadata": {},
   "outputs": [],
   "source": [
    "\"\"\"\n",
    "----------------- DEFINITION ----------------------\n",
    "\n",
    "- Lambda functions in Python, also known as \"anonymous functions\" or \"lambda expressions,\" are small, inline, and \n",
    "  unnamed functions. They are used to create small, one-time-use functions without needing to formally \n",
    "  define them using the def keyword\n",
    "  \n",
    "----------------- USAGE ---------------------\n",
    "\n",
    "- Short, Simple Functions: Lambda functions are used when you need a small, concise function to perform a \n",
    "  specific operation or transformation.\n",
    "\n",
    "- Functional Programming: Lambda functions are often used in functional programming constructs such as \n",
    "  map(), filter(), and reduce() to define functions on the fly. They make code more readable and functional.\n",
    "\n",
    "- Sorting: Lambda functions can be used as the key argument in functions like sorted() to specify custom \n",
    "  sorting orders for lists or other iterables.\n",
    "\n",
    "- Event Handlers: In GUI frameworks or event-driven programming, lambda functions are used as event handlers \n",
    "  to define actions when an event occurs\n",
    "\n",
    "- Below is an example of basic syntax and a code example as well:\n",
    "\n",
    "\"\"\"\n",
    "\n",
    "# Basic syntax:\n",
    "lambda arguments: expression\n",
    "\n",
    "# Basic example:\n",
    "add = lambda x, y: x + y\n",
    "print(add(5, 3))  # Output: 8"
   ]
  },
  {
   "cell_type": "code",
   "execution_count": 14,
   "id": "c599d5c1-41d4-49e7-8ad1-aa6bb35f8e0b",
   "metadata": {},
   "outputs": [],
   "source": [
    "# Problem 2 - Sort tuple using lambda expression"
   ]
  },
  {
   "cell_type": "code",
   "execution_count": null,
   "id": "ca4645ca-5aa8-4e74-ac8e-853f2ce04d5d",
   "metadata": {},
   "outputs": [],
   "source": [
    "data = [(3, 'banana'), (8, 'apple'), (2, 'cherry'), (4, 'date')]\n",
    "\n",
    "# Sort the list of tuples based on the second element (index 1)\n",
    "sorted_data = sorted(data, key=lambda x: x[1])\n",
    "\n",
    "# Display the sorted list\n",
    "for item in sorted_data:\n",
    "    print(item)"
   ]
  },
  {
   "cell_type": "code",
   "execution_count": 17,
   "id": "4eebd214-0cd5-4b2f-856c-41985e240a5e",
   "metadata": {},
   "outputs": [],
   "source": [
    "# Problem 3 - Higher order functions"
   ]
  },
  {
   "cell_type": "code",
   "execution_count": null,
   "id": "53e73d96-e941-4690-836f-16b222ee9d48",
   "metadata": {},
   "outputs": [],
   "source": [
    "\"\"\"\n",
    "- Higher-order functions are a concept in functional programming that treat functions as first-class citizens. \n",
    "In Python, this means we can pass functions as arguments to other functions, return functions from functions, \n",
    "or even assign functions to variables. \n",
    "\n",
    "- Higher-order functions enable us to abstract and manipulate behavior, creating more modular and flexible code\n",
    "\n",
    "- Here is an example below:\n",
    "\n",
    "\"\"\"\n",
    "\n",
    "def apply(func, x):\n",
    "    \"\"\"\n",
    "    A higher-order function that applies a given function to a value 'x'.\n",
    "\n",
    "    :param func: The function to apply.\n",
    "    :param x: The value to which the function is applied.\n",
    "    :return: The result of applying 'func' to 'x'.\n",
    "    \"\"\"\n",
    "    return func(x)\n",
    "\n",
    "# Define some functions to use with 'apply'\n",
    "def square(n):\n",
    "    return n ** 2\n",
    "\n",
    "def double(n):\n",
    "    return n * 2\n",
    "\n",
    "# Using the higher-order function 'apply'\n",
    "result1 = apply(square, 5)  # Square of 5\n",
    "result2 = apply(double, 4)  # Double of 4\n",
    "\n",
    "print(\"Result 1:\", result1)\n",
    "print(\"Result 2:\", result2)"
   ]
  },
  {
   "cell_type": "code",
   "execution_count": 19,
   "id": "dbfbe7b9-277c-4789-a8e3-5e899e1df1ad",
   "metadata": {},
   "outputs": [],
   "source": [
    "# ------------------ BUILT-IN FUNCTIONS ---------------------"
   ]
  },
  {
   "cell_type": "code",
   "execution_count": 20,
   "id": "85b28b71-463f-400b-90b4-b5f20ff7da25",
   "metadata": {},
   "outputs": [],
   "source": [
    "# Problem 1 - len(), min() and max()"
   ]
  },
  {
   "cell_type": "code",
   "execution_count": null,
   "id": "545d0a44-ce6b-432e-b990-57d5909a2d1f",
   "metadata": {},
   "outputs": [],
   "source": [
    "\"\"\"\n",
    "1) len(iterable):\n",
    "\n",
    "  - The len() function is used to calculate the length or the number of items in an iterable \n",
    "    (e.g., strings, lists, tuples, dictionaries, sets, etc.).\n",
    "    \n",
    "  - It returns an integer representing the number of elements in the iterable.\n",
    "  \n",
    "  - For strings, it returns the number of characters; for other iterables, it returns the number of items.\n",
    "\n",
    "\"\"\"\n",
    "\n",
    "my_list = [1, 2, 3, 4, 5]\n",
    "length = len(my_list)  # length will be 5\n",
    "\n",
    "\"\"\"\n",
    "2) max(iterable, key=None, default=None):\n",
    "\n",
    "  - The max() function is used to find the maximum (largest) value in an iterable.\n",
    "  \n",
    "  - By default, it works with numbers, but you can provide the key argument to specify a function \n",
    "    that calculates the comparison key for each element in the iterable.\n",
    "    \n",
    "  - The default argument allows you to specify a value to be returned if the iterable is empty.\n",
    "\n",
    "\"\"\"\n",
    "\n",
    "my_numbers = [3, 7, 1, 9, 4]\n",
    "max_num = max(my_numbers)  # max_num will be 9\n",
    "\n",
    "\"\"\"\n",
    "3) min(iterable, key=None, default=None):\n",
    "\n",
    "  - The min() function is used to find the minimum (smallest) value in an iterable.\n",
    "  \n",
    "  - Similar to max(), you can provide a key function for custom comparisons \n",
    "    and a default value if the iterable is empty.\n",
    "    \n",
    "\"\"\"\n",
    "\n",
    "my_numbers = [3, 7, 1, 9, 4]\n",
    "min_num = min(my_numbers)  # min_num will be 1"
   ]
  },
  {
   "cell_type": "code",
   "execution_count": 21,
   "id": "08f0b1d0-9e4f-45ea-bc03-4336521fa4da",
   "metadata": {},
   "outputs": [],
   "source": [
    "# Problem 2 - Using map() to apply to a function"
   ]
  },
  {
   "cell_type": "code",
   "execution_count": null,
   "id": "c3104fef-6bfe-47bf-ba2d-12c1dcc75dda",
   "metadata": {},
   "outputs": [],
   "source": [
    "def square(n):\n",
    "    return n ** 2\n",
    "\n",
    "# List of numbers\n",
    "numbers = [1, 2, 3, 4, 5]\n",
    "\n",
    "# Use the map() function to apply the 'square' function to each element in the list\n",
    "squared_numbers = map(square, numbers)\n",
    "\n",
    "# Convert the result to a list (or iterate through it)\n",
    "squared_numbers_list = list(squared_numbers)\n",
    "\n",
    "# Print the squared numbers\n",
    "print(squared_numbers_list)"
   ]
  },
  {
   "cell_type": "code",
   "execution_count": 23,
   "id": "08286edf-3de0-4b6c-9dcf-0ec405745120",
   "metadata": {},
   "outputs": [],
   "source": [
    "# Problem 3 - filter() function"
   ]
  },
  {
   "cell_type": "code",
   "execution_count": null,
   "id": "d792f9b2-d1a4-434f-a0e0-c562cb3b4ef8",
   "metadata": {},
   "outputs": [],
   "source": [
    "\"\"\"\n",
    "----------------- DEFINITION ------------------------\n",
    "\n",
    "The filter() function in Python is used to filter elements from an iterable (e.g., a list, tuple, or other iterable) \n",
    "based on a specified condition. It creates a new iterable that includes only the elements for which the condition is True\n",
    "\n",
    "------------- SYNTAX ------------------\n",
    "\n",
    "filter(function, iterable)\n",
    "\n",
    "- function: A function that takes an element from the iterable as an argument and returns True \n",
    "  if the element should be included in the result or False if it should be excluded.\n",
    "\n",
    "- iterable: The iterable from which you want to filter elements\n",
    "\"\"\"\n",
    "\n",
    "# Here are some examples\n",
    "\n",
    "# Remove empty strings from a list\n",
    "words = [\"apple\", \"\", \"banana\", \"cherry\", \"\"]\n",
    "non_empty_words = list(filter(lambda x: x != \"\", words))\n",
    "\n",
    "# Filter records from a list of dictionaries based on a condition\n",
    "records = [{\"name\": \"Alice\", \"age\": 30}, {\"name\": \"Bob\", \"age\": 25}, {\"name\": \"Carol\", \"age\": 35}]\n",
    "young_people = list(filter(lambda x: x[\"age\"] < 30, records))"
   ]
  },
  {
   "cell_type": "code",
   "execution_count": 24,
   "id": "b1256747-ec54-47fc-bc40-3af23b26bedf",
   "metadata": {},
   "outputs": [],
   "source": [
    "# Problem 4 - reduce() function - Product of all elements"
   ]
  },
  {
   "cell_type": "code",
   "execution_count": null,
   "id": "7bfad701-0678-4fba-9025-21d5307039e2",
   "metadata": {},
   "outputs": [],
   "source": [
    "from functools import reduce\n",
    "\n",
    "# Function to multiply two values\n",
    "def multiply(x, y):\n",
    "    return x * y\n",
    "\n",
    "# List of numbers\n",
    "numbers = [1, 2, 3, 4, 5]\n",
    "\n",
    "# Use the reduce() function to find the product of all elements in the list\n",
    "product = reduce(multiply, numbers)\n",
    "\n",
    "# Print the result\n",
    "print(\"Product:\", product)"
   ]
  },
  {
   "cell_type": "code",
   "execution_count": 25,
   "id": "9ab70b18-95bb-4bf7-8827-2b428fda191d",
   "metadata": {},
   "outputs": [],
   "source": [
    "# ---------------- FUNCTION DOCS AND BEST PRACTICES -----------------------"
   ]
  },
  {
   "cell_type": "code",
   "execution_count": 26,
   "id": "d0a9320c-3e32-4654-8988-28c062e6276b",
   "metadata": {},
   "outputs": [],
   "source": [
    "# Problem 1 - Purpose of doc strings"
   ]
  },
  {
   "cell_type": "code",
   "execution_count": null,
   "id": "da172865-2cc7-4d9d-b57e-d34f0d49b0f8",
   "metadata": {},
   "outputs": [],
   "source": [
    "\"\"\"\n",
    "- Docstrings in Python are used to document and describe the purpose, usage, and behavior of functions, classes, modules, \n",
    "or methods. \n",
    "\n",
    "- They serve as documentation strings and are essential for improving code readability, maintainability, \n",
    "and for helping other developers (including your future self) understand how to use and interact with your code. \n",
    "\n",
    "- Properly documented code is easier to work with and less error-prone.\n",
    "\n",
    "- The basic structure of a docstring consists of a triple-quoted string (either single or double quotes) \n",
    "  placed as the first statement in a function, class, or module\n",
    "  \n",
    "- Here's how to write it:\n",
    "\"\"\"\n",
    "\n",
    "def function_name(parameters):\n",
    "    \"\"\"\n",
    "    Brief description of the function.\n",
    "\n",
    "    Additional details, parameters, return values, and usage examples go here.\n",
    "\n",
    "    :param parameter_name: Description of the parameter.\n",
    "    :return: Description of what the function returns.\n",
    "    \"\"\"\n",
    "    # Function code goes here\n",
    "    pass\n",
    "\n",
    "# Below is an example of a simple add function\n",
    "def add(a, b):\n",
    "    \"\"\"\n",
    "    Adds two numbers and returns the result.\n",
    "\n",
    "    :param a: The first number to add.\n",
    "    :param b: The second number to add.\n",
    "    :return: The sum of 'a' and 'b'.\n",
    "    \"\"\"\n",
    "    return a + b\n",
    "\n",
    "# Below syntax displays the docstring of the 'add' function\n",
    "help(add)"
   ]
  },
  {
   "cell_type": "code",
   "execution_count": 28,
   "id": "24156689-dfe0-49f9-8b0d-4ba338b5cc3e",
   "metadata": {},
   "outputs": [],
   "source": [
    "# Problem 2 - Good practices for functions"
   ]
  },
  {
   "cell_type": "code",
   "execution_count": null,
   "id": "8de5a045-11dc-4ad7-9e71-149ffa444e4a",
   "metadata": {},
   "outputs": [],
   "source": [
    "\"\"\"\n",
    "1) Use Descriptive Names:\n",
    "\n",
    "  - Choose descriptive and meaningful names for your functions and variables. \n",
    "    This makes it clear what they do without needing extensive comments or docstrings.\n",
    "\n",
    "2) Follow PEP 8:\n",
    "\n",
    "  - PEP 8 is the Python Enhancement Proposal that provides guidelines for writing clean and consistent Python code. \n",
    "    It covers naming conventions for functions, variables, and other elements. Some key points from PEP 8 include:\n",
    "\n",
    "  - Function and variable names should be lowercase, with words separated by underscores (snake_case).\n",
    "\n",
    "  - Function names should be verbs or verb phrases, indicating actions (e.g., calculate_total, find_max_value).\n",
    "\n",
    "  - Variable names should be descriptive and concise (e.g., user_input or index).\n",
    "\n",
    "  - Constants should be in ALL_CAPS (e.g., PI).\n",
    "\n",
    "  - Class names should use the CapWords convention (CamelCase) with the first letter of each word capitalized (e.g., MyClass).\n",
    "\n",
    "3) Use meaningful names: like calculate_total(), perform_discount_on_products(). These are self explanatory\n",
    "\n",
    "4) Use docstrings for better visibility of that function\n",
    "\"\"\""
   ]
  }
 ],
 "metadata": {
  "kernelspec": {
   "display_name": "Python 3 (ipykernel)",
   "language": "python",
   "name": "python3"
  },
  "language_info": {
   "codemirror_mode": {
    "name": "ipython",
    "version": 3
   },
   "file_extension": ".py",
   "mimetype": "text/x-python",
   "name": "python",
   "nbconvert_exporter": "python",
   "pygments_lexer": "ipython3",
   "version": "3.10.8"
  }
 },
 "nbformat": 4,
 "nbformat_minor": 5
}
