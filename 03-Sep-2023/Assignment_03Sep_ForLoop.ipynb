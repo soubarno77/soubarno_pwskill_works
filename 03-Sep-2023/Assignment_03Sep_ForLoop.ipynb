{
 "cells": [
  {
   "cell_type": "code",
   "execution_count": null,
   "id": "2939a760-60a6-420e-a570-93883644c556",
   "metadata": {},
   "outputs": [],
   "source": [
    "#.................Basic Level........................"
   ]
  },
  {
   "cell_type": "code",
   "execution_count": null,
   "id": "ef1a4a26-ecc2-472d-9f05-dd115b030892",
   "metadata": {},
   "outputs": [],
   "source": [
    "'''\n",
    "    Problem statement 1\n",
    "    Print numbers from 1 to 10 using for loop\n",
    "    The range of numbers is hard coded (1-10) as per given statement in the question\n",
    "'''"
   ]
  },
  {
   "cell_type": "code",
   "execution_count": null,
   "id": "2786640c-8447-497f-8477-4c50b955a031",
   "metadata": {},
   "outputs": [],
   "source": [
    "print('Printing numbers from 1 to 10 using for loop. See output below:')\n",
    "for num in range(1,11):\n",
    "    if num == 10:\n",
    "        # end the print just after printing the last number, to avoid adding unnecessary comma at the end\n",
    "        print(num)\n",
    "    else:\n",
    "        # append a comma at the end after printing a number\n",
    "        print(num, end=', ')"
   ]
  },
  {
   "cell_type": "code",
   "execution_count": null,
   "id": "2d458357-da1b-4f62-bdf8-5b935b1cf2d6",
   "metadata": {},
   "outputs": [],
   "source": [
    "# Problem 2\n",
    "# Sum of all numbers in a list using for loop\n",
    "# Taking all the numbers in list in the form of user input\n",
    "# Assuming user is entering a valid entry"
   ]
  },
  {
   "cell_type": "code",
   "execution_count": null,
   "id": "0ff139c5-8e3b-4a5c-a26c-3ec500e322ad",
   "metadata": {},
   "outputs": [],
   "source": [
    "# Get all the numbers in a list by considering user input\n",
    "num_str_list = list(input('Enter the list of numbers to calculate summation in a comma separated fashion: ').strip().split(\",\"))\n",
    "\n",
    "# Using a variable to store the final sum\n",
    "final_sum = 0\n",
    "\n",
    "# Converting all user inputs to int type from str type using list comprehension\n",
    "num_int_list = [int(num) for num in num_str_list]\n",
    "\n",
    "# Iterating the numbers using for loop and calculating sum\n",
    "for num in num_int_list:\n",
    "    final_sum += num\n",
    "\n",
    "# Displaying the sum\n",
    "print(f'The final sum calculated is {str(final_sum)} by adding the following numbers: {\", \".join(num_str_list)}')\n"
   ]
  },
  {
   "cell_type": "code",
   "execution_count": null,
   "id": "213e697d-0667-4162-adb3-124a0daed537",
   "metadata": {},
   "outputs": [],
   "source": [
    "# Problem 3\n",
    "# Print chars of a str in reverse order\n",
    "# Assuming user is entering a valid entry"
   ]
  },
  {
   "cell_type": "code",
   "execution_count": null,
   "id": "5377a151-1c2c-455d-acb3-16ec8fd69c70",
   "metadata": {},
   "outputs": [],
   "source": [
    "# Get user input, remove any leading/trailing white spaces\n",
    "data = input('Please enter anything of your choice, should not be blank: ').strip()\n",
    "\n",
    "# Reversing the string by using stepping of -1 and looping through each char\n",
    "for ch in data[::-1]:\n",
    "    # Displaying each character\n",
    "    print(ch, end='')"
   ]
  },
  {
   "cell_type": "code",
   "execution_count": null,
   "id": "bba1c5d4-168f-4300-af56-80f1650aa102",
   "metadata": {},
   "outputs": [],
   "source": [
    "# Problem 4\n",
    "# Factorial using for loop\n",
    "# Assuming user is entering a valid entry"
   ]
  },
  {
   "cell_type": "code",
   "execution_count": null,
   "id": "0ba53ad4-1812-4ee6-9d47-5af8ad7d793a",
   "metadata": {},
   "outputs": [],
   "source": [
    "# Taking user input, removing leading/trailing white spaces\n",
    "num = input('Enter a valid, positive number: ').strip()\n",
    "\n",
    "if not num.isnumeric():\n",
    "    print('Invalid entry! Not a number!!')\n",
    "elif int(num) < 0:\n",
    "    print('Your input cannot be negative! Must be a positive number')\n",
    "elif int(num) <= 1:\n",
    "    print(f'Factorial for the number {num} is 1')\n",
    "else:\n",
    "    # Calculating factorial\n",
    "    fact = 1\n",
    "    for n in range(1,int(num)+1):\n",
    "        fact *= n\n",
    "    # Displaying the factorial value\n",
    "    print(f'Factorial for the number {num} is {fact}')\n",
    "        "
   ]
  },
  {
   "cell_type": "code",
   "execution_count": null,
   "id": "db6525e4-1909-438d-801d-452fa166d851",
   "metadata": {},
   "outputs": [],
   "source": [
    "# Problem 5\n",
    "# Multiplication table for a number\n",
    "# Taking user input, assuming a valid number entry"
   ]
  },
  {
   "cell_type": "code",
   "execution_count": null,
   "id": "12a535d4-9586-47e3-b8c5-a7a1de256750",
   "metadata": {},
   "outputs": [],
   "source": [
    "# Taking the number as input\n",
    "num = int(input('Enter a valid, positive number, should not be zero: ').strip())\n",
    "\n",
    "# Taking inout till how much the table needs to be generated\n",
    "table_limit = int(input('Enter the limit till which you want to see the multiplication table: ').strip())\n",
    "\n",
    "# Printing the multiplication table using for loop\n",
    "for mult_factor in range(1, table_limit + 1):\n",
    "    print(f\"{str(num)} x {str(mult_factor)} = {num * mult_factor}\")"
   ]
  },
  {
   "cell_type": "code",
   "execution_count": null,
   "id": "4e8550ca-dde9-4090-b82d-517855c5eff4",
   "metadata": {},
   "outputs": [],
   "source": [
    "# Problem 6\n",
    "# Counting even and odd nums from a num_list\n",
    "# Taking list attributes from user as input, in comma separated fashion\n",
    "# Assuming the entered input is valid, containing valid integers"
   ]
  },
  {
   "cell_type": "code",
   "execution_count": null,
   "id": "cf2720e9-2747-49d9-9d6c-34aef8daa966",
   "metadata": {},
   "outputs": [],
   "source": [
    "# Taking the input from user\n",
    "num_input = input('Enter a list of numbers in a comma separated fashion: ').strip()\n",
    "\n",
    "# Taking all the valid numbers in a list\n",
    "\n",
    "num_list = [int(num) for num in num_input.split(',')]\n",
    "\n",
    "# Considering this var for even num count\n",
    "even = 0\n",
    "\n",
    "# Considering this for odd num count\n",
    "odd = 0\n",
    "\n",
    "# Tracking the even and odd\n",
    "for num in num_list:\n",
    "    if num % 2 == 0:\n",
    "        even += 1\n",
    "    else:\n",
    "        odd += 1\n",
    "\n",
    "# Printing the even and odd counts\n",
    "print(f\"Total number of even numbers = {even} and total odd numbers = {odd} \\\n",
    "      were present in the following list of numbers: {num_input}\")"
   ]
  },
  {
   "cell_type": "code",
   "execution_count": null,
   "id": "7fd1d516-6245-4bf9-8fb2-5ab8713aff9b",
   "metadata": {},
   "outputs": [],
   "source": [
    "# Problem 7\n",
    "# Printing squares of 1 till 5"
   ]
  },
  {
   "cell_type": "code",
   "execution_count": null,
   "id": "09ce8084-affa-4712-a099-ced1508c5797",
   "metadata": {},
   "outputs": [],
   "source": [
    "# Using for loop to print the squares\n",
    "for num in range(1,6):\n",
    "    print(f\"Square of {num} = {num ** 2}\")"
   ]
  },
  {
   "cell_type": "code",
   "execution_count": null,
   "id": "796b7da5-c66d-45fd-afd0-8df46a166438",
   "metadata": {},
   "outputs": [],
   "source": [
    "# Problem 8\n",
    "# Finding length of string without len() function"
   ]
  },
  {
   "cell_type": "code",
   "execution_count": null,
   "id": "f6e38fc8-f78a-49d6-b0b1-4a58ba8ada37",
   "metadata": {},
   "outputs": [],
   "source": [
    "# Taking the string as input from user\n",
    "str_input = input('Enter any string: ').strip()\n",
    "\n",
    "# This var will hold the length of the input string\n",
    "str_len = 0\n",
    "\n",
    "# Using for loop to get the count\n",
    "for ch in str_input:\n",
    "    str_len += 1\n",
    "\n",
    "# Displaying the length of the string\n",
    "print(f\"Length of the string {str_input if str_input else 'EMPTY STRING ENTERED'} is = {str(str_len)}\")"
   ]
  },
  {
   "cell_type": "code",
   "execution_count": null,
   "id": "14668caf-abc2-4bb0-83bf-62b56a5b37df",
   "metadata": {},
   "outputs": [],
   "source": [
    "# Problem 9\n",
    "# Calculating average of numbers using for loop"
   ]
  },
  {
   "cell_type": "code",
   "execution_count": null,
   "id": "5c9c4016-54bb-4b88-b1d0-a6b16378dfb7",
   "metadata": {},
   "outputs": [],
   "source": [
    "# Assuming some pre-defined numbers in a static list\n",
    "static_list = [1,2,3,4,5]\n",
    "\n",
    "# This var will store the average\n",
    "avg = 0\n",
    "\n",
    "# This will hold the total sum of all numbers\n",
    "total = 0\n",
    "\n",
    "# Calculating the total\n",
    "for num in static_list:\n",
    "    total += num\n",
    "\n",
    "# Calculating the average\n",
    "avg = total / len(static_list)\n",
    "\n",
    "# Displaying the average\n",
    "print(f\"The average value for the following list of numbers: {','.join(str(num) for num in static_list)} is = {str(avg)}\")"
   ]
  },
  {
   "cell_type": "code",
   "execution_count": null,
   "id": "4aaf04c4-f9a2-4a4b-a851-2b0d6481f22f",
   "metadata": {},
   "outputs": [],
   "source": [
    "# Problem 10\n",
    "# Printing first n Fibanacci nums using for loop"
   ]
  },
  {
   "cell_type": "code",
   "execution_count": null,
   "id": "255607e1-8612-4eb3-9c9c-34e861459aab",
   "metadata": {},
   "outputs": [],
   "source": [
    "# Prompt the user for the number of Fibonacci numbers to generate\n",
    "n = int(input(\"Enter the number of Fibonacci numbers to generate: \"))\n",
    "\n",
    "# Initialize the first two Fibonacci numbers\n",
    "fibonacci_series = [0, 1]\n",
    "\n",
    "# Use a for loop to generate the Fibonacci numbers\n",
    "for i in range(2, n):\n",
    "    next_number = fibonacci_series[i - 1] + fibonacci_series[i - 2]\n",
    "    fibonacci_series.append(next_number)\n",
    "\n",
    "# Print the generated Fibonacci series\n",
    "print(\"The first\", n, \"Fibonacci numbers are:\")\n",
    "for num in fibonacci_series:\n",
    "    print(num, end=' ')"
   ]
  },
  {
   "cell_type": "code",
   "execution_count": null,
   "id": "96c111ad-947b-4a62-8289-8c796fbecfdb",
   "metadata": {},
   "outputs": [],
   "source": [
    "#..............Intermediate Level............................."
   ]
  },
  {
   "cell_type": "code",
   "execution_count": null,
   "id": "6b5ca5e4-a6dc-431c-b265-f623b30e5cb3",
   "metadata": {},
   "outputs": [],
   "source": [
    "# Problem 11\n",
    "# Using for loop to track duplicates\n",
    "# Note: Dictionary is also used here to optimize the code, used for duplicate tracking"
   ]
  },
  {
   "cell_type": "code",
   "execution_count": null,
   "id": "35c8e3f0-8f55-4486-936e-dcae44f0f0ec",
   "metadata": {},
   "outputs": [],
   "source": [
    "# Custom list to check for duplicates\n",
    "my_list = [1, 2, 3, 4, 5]\n",
    "\n",
    "# Empty dictionary to store the numbers and their occurence count in original static list\n",
    "element_count = {}\n",
    "\n",
    "# for loop to check for duplicates\n",
    "has_duplicates = False\n",
    "\n",
    "for element in my_list:\n",
    "    # Check if the element is already in the dictionary\n",
    "    if element in element_count:\n",
    "        has_duplicates = True\n",
    "        break  # Exit the loop as soon as a duplicate is found\n",
    "    else:\n",
    "        element_count[element] = 1\n",
    "\n",
    "# Check if there are duplicates tracked\n",
    "if has_duplicates:\n",
    "    print(\"The list contains duplicates.\")\n",
    "else:\n",
    "    print(\"The list does not contain duplicates.\")\n"
   ]
  },
  {
   "cell_type": "code",
   "execution_count": null,
   "id": "071490b0-7ff8-45a7-8104-6efd29ceda84",
   "metadata": {},
   "outputs": [],
   "source": [
    "# Problem 12\n",
    "# Prime num in a given range using for loop"
   ]
  },
  {
   "cell_type": "code",
   "execution_count": null,
   "id": "a94b9643-45c9-4047-ad8e-ea60f6fbafc7",
   "metadata": {},
   "outputs": [],
   "source": [
    "# Input range to generate prime from user\n",
    "start = int(input(\"Enter the start of the range: \").strip())\n",
    "end = int(input(\"Enter the end of the range: \").strip())\n",
    "\n",
    "print(f\"Prime numbers in the range {start} to {end}:\")\n",
    "\n",
    "# Check prime numbers in the given range\n",
    "for num in range(start, end + 1):\n",
    "    if num > 1:\n",
    "        is_prime = True\n",
    "        # Validating if the selected num is prime or not\n",
    "        for i in range(2, int(num ** 0.5) + 1):\n",
    "            if num % i == 0:\n",
    "                is_prime = False\n",
    "                break\n",
    "        if is_prime:\n",
    "            # Display the particular prime number selected from the range\n",
    "            print(num, end=' ')\n"
   ]
  },
  {
   "cell_type": "code",
   "execution_count": null,
   "id": "59db061a-59f0-4b46-8d83-fe2355d363ad",
   "metadata": {},
   "outputs": [],
   "source": [
    "# Problem 13\n",
    "# Counting vowels in a string"
   ]
  },
  {
   "cell_type": "code",
   "execution_count": null,
   "id": "a3c6026d-8708-4765-84a7-0bca190b89bd",
   "metadata": {},
   "outputs": [],
   "source": [
    "# Take string from user as input, converting to lower case as well\n",
    "any_string = input(\"Enter anything of your choice: \").strip().lower()\n",
    "\n",
    "# Defining a set containing vowels. This will ve used for lookup\n",
    "vowels_set = {'a','e','i','o','u'}\n",
    "\n",
    "# var to track vowel count\n",
    "vow_count = 0\n",
    "\n",
    "# Iterate through the string and get the vowel count\n",
    "for char in any_string:\n",
    "    if char in vowels_set:\n",
    "        vow_count += 1\n",
    "\n",
    "# Displaying the total vowel count\n",
    "print(f\"Total vowels found in the string - {any_string} = {str(vow_count)}\")"
   ]
  },
  {
   "cell_type": "code",
   "execution_count": null,
   "id": "7f5152a9-1d46-43b4-884d-64f18d04b130",
   "metadata": {},
   "outputs": [],
   "source": [
    "# Problem 14\n",
    "# Finding max number in a 2D list"
   ]
  },
  {
   "cell_type": "code",
   "execution_count": null,
   "id": "165609ca-9f0d-4161-8a7d-6321447e6d80",
   "metadata": {},
   "outputs": [],
   "source": [
    "# Defining a 2D list\n",
    "my_list = [[7,98,3,45],[87,456,7],[1,2,3,4,5,6],[9,12]]\n",
    "\n",
    "# Var to track max num\n",
    "max_num = 0\n",
    "\n",
    "# Finding max num using nested for loop\n",
    "for inner_list in my_list:\n",
    "    for num in inner_list:\n",
    "        if num > max_num:\n",
    "            max_num = num\n",
    "\n",
    "# Displaying the max num\n",
    "print(f\"Maximum number retrieved from the 2D list = {str(max_num)}\")"
   ]
  },
  {
   "cell_type": "code",
   "execution_count": null,
   "id": "4eb7e49f-9dc4-457e-badc-07cdbd71c940",
   "metadata": {},
   "outputs": [],
   "source": [
    "# Problem 15\n",
    "# Remove all occurrences from list"
   ]
  },
  {
   "cell_type": "code",
   "execution_count": null,
   "id": "e0bbe295-e22f-4d43-aaba-8ceca6bb974a",
   "metadata": {},
   "outputs": [],
   "source": [
    "# Defining custom list of numbers\n",
    "custom_list = [1,2,3,4,2,3,6,7,8,2,4,2,1,2,5]\n",
    "\n",
    "# Defining what item occurrence to find and remove\n",
    "element_to_remove = 2\n",
    "\n",
    "# Removing the specific item\n",
    "for num in custom_list:\n",
    "    if num == element_to_remove:\n",
    "        custom_list.remove(num)\n",
    "\n",
    "# Displaying the modified list\n",
    "print(custom_list)"
   ]
  },
  {
   "cell_type": "code",
   "execution_count": null,
   "id": "aa08a45f-a3e2-4180-b851-cf5aeb05d513",
   "metadata": {},
   "outputs": [],
   "source": [
    "# Problem 16\n",
    "# Multiplication table for numbers 1-5"
   ]
  },
  {
   "cell_type": "code",
   "execution_count": null,
   "id": "2a81c0a8-5fd2-4d8b-974b-e0c9944608be",
   "metadata": {},
   "outputs": [],
   "source": [
    "# Defining the range till which multiplication table needs to be generated\n",
    "table_range = 10\n",
    "\n",
    "# Generate multiplication table for the numbers from 1 to 5\n",
    "for num in range(1,6):\n",
    "    for rng in range(1,table_range + 1):\n",
    "        print(f\"{str(num)} x {str(rng)} = {str(num * rng)}\")\n",
    "    # Separating each table with dashes so that output panel looks good :)\n",
    "    print(\"-----------------------------------\")"
   ]
  },
  {
   "cell_type": "code",
   "execution_count": null,
   "id": "9e867fe2-f45f-4748-80ca-39235df4f557",
   "metadata": {},
   "outputs": [],
   "source": [
    "# Problem 17\n",
    "# Converting list of Fahrenheit temps to Celcius"
   ]
  },
  {
   "cell_type": "code",
   "execution_count": null,
   "id": "e0024458-ce6e-4387-a21e-9748e44414f5",
   "metadata": {},
   "outputs": [],
   "source": [
    "# List of Fahrenheit temperatures\n",
    "fahrenheit_temperatures = [32, 68, 86, 104, 122]\n",
    "\n",
    "# Empty list to store the converted temperatures in Celsius\n",
    "celsius_temperatures = []\n",
    "\n",
    "# Iterating through the Fahrenheit temperatures using a for loop\n",
    "for temp_fahrenheit in fahrenheit_temperatures:\n",
    "    # Convert Fahrenheit to Celsius for each temperature\n",
    "    temp_celsius = (temp_fahrenheit - 32) * 5/9\n",
    "    \n",
    "    # Append the converted temperature to the celsius_temperatures list\n",
    "    celsius_temperatures.append(temp_celsius)\n",
    "\n",
    "# Print the list of temperatures in Celsius\n",
    "print(\"Fahrenheit Temperatures:\", fahrenheit_temperatures)\n",
    "print(\"Celsius Temperatures:\", celsius_temperatures)\n"
   ]
  },
  {
   "cell_type": "code",
   "execution_count": null,
   "id": "4fdf42ff-3826-4f4d-84ad-78b40c0f8e04",
   "metadata": {},
   "outputs": [],
   "source": [
    "# Problem 18\n",
    "# Common element from two lists"
   ]
  },
  {
   "cell_type": "code",
   "execution_count": null,
   "id": "38986947-3aec-463a-bd53-6ba0c5aa2f07",
   "metadata": {},
   "outputs": [],
   "source": [
    "# Defining custom lists of numbers\n",
    "cust_list_1 = [1,2,3,4,5,6]\n",
    "cust_list_2 = [2,8,7,4,5,9]\n",
    "\n",
    "# Result list initialized to empty to store the common items\n",
    "res_list = []\n",
    "\n",
    "# Converting one of the lists to set for easier lookup\n",
    "cust_set_2 = set(cust_list_2)\n",
    "\n",
    "# Tracking the common items\n",
    "for num in cust_list_1:\n",
    "    if num in cust_set_2:\n",
    "        res_list.append(num)\n",
    "\n",
    "# Displaying the common items between two lists\n",
    "print(f\"Common items tracked between two lists -> {','.join(str(res) for res in res_list)}\")"
   ]
  },
  {
   "cell_type": "code",
   "execution_count": null,
   "id": "d9adea9c-ebd4-4e88-a7dd-2551a0127aba",
   "metadata": {},
   "outputs": [],
   "source": [
    "# Problem 19\n",
    "# Printing right-anglte triangle using for loop"
   ]
  },
  {
   "cell_type": "code",
   "execution_count": null,
   "id": "942fad02-9037-49b7-9626-988df8438ff5",
   "metadata": {},
   "outputs": [],
   "source": [
    "# Define the number of rows for the triangle\n",
    "num_rows = 5\n",
    "\n",
    "# Outer loop to iterate through each row\n",
    "for i in range(1, num_rows + 1):\n",
    "    # Inner loop to print '*' characters for each row\n",
    "    for j in range(i):\n",
    "        print('*', end='')\n",
    "    # Move to the next line to start a new row\n",
    "    print()"
   ]
  },
  {
   "cell_type": "code",
   "execution_count": null,
   "id": "8c1ba102-74ea-482d-baf7-396411519073",
   "metadata": {},
   "outputs": [],
   "source": [
    "# Problem 20\n",
    "# GCD of two numbers"
   ]
  },
  {
   "cell_type": "code",
   "execution_count": null,
   "id": "f7f96752-692a-42cb-a440-a4aabddc89d5",
   "metadata": {},
   "outputs": [],
   "source": [
    "# Input two numbers for which you want to find the GCD\n",
    "num1 = int(input(\"Enter the first number: \"))\n",
    "num2 = int(input(\"Enter the second number: \"))\n",
    "\n",
    "# Find the smaller number among the two\n",
    "if num1 < num2:\n",
    "    smaller = num1\n",
    "else:\n",
    "    smaller = num2\n",
    "\n",
    "# Initialize a variable to store the GCD\n",
    "gcd = 1\n",
    "\n",
    "# Use a for loop to iterate from 1 to the smaller number\n",
    "for i in range(1, smaller + 1):\n",
    "    # Check if both num1 and num2 are divisible by the current value of 'i'\n",
    "    if num1 % i == 0 and num2 % i == 0:\n",
    "        gcd = i  # Update the GCD when a common divisor is found\n",
    "\n",
    "# Print the GCD\n",
    "print(\"The Greatest Common Divisor (GCD) of\", num1, \"and\", num2, \"is\", gcd)"
   ]
  },
  {
   "cell_type": "code",
   "execution_count": null,
   "id": "aadd632d-3d22-4806-909c-5683db5593bd",
   "metadata": {},
   "outputs": [],
   "source": [
    "# Problem 21\n",
    "# Sum of digits of numbers "
   ]
  },
  {
   "cell_type": "code",
   "execution_count": null,
   "id": "ff46cf54-a451-4f02-a48c-004388f821f9",
   "metadata": {},
   "outputs": [],
   "source": [
    "# Input a list of numbers\n",
    "number_list = [123, 45, 6789, 56, 789]\n",
    "\n",
    "# Use a list comprehension to calculate the sum of digits for each number in the list\n",
    "sums_of_digits = [sum(int(digit) for digit in str(number)) for number in number_list]\n",
    "\n",
    "# Print the list of sums of digits\n",
    "print(\"Sums of Digits:\", sums_of_digits)\n"
   ]
  },
  {
   "cell_type": "code",
   "execution_count": null,
   "id": "33ce30b5-f3b7-4d8c-a6d0-7a0e6a3dc9cb",
   "metadata": {},
   "outputs": [],
   "source": [
    "# Problem 22\n",
    "# Prime factors"
   ]
  },
  {
   "cell_type": "code",
   "execution_count": null,
   "id": "a0939119-cab8-42e1-b25d-f9181025eaf4",
   "metadata": {},
   "outputs": [],
   "source": [
    "# Input the number for which you want to find prime factors\n",
    "number = int(input(\"Enter a number: \"))\n",
    "\n",
    "# Initialize an empty list to store prime factors\n",
    "prime_factors = []\n",
    "\n",
    "# Find prime factors using a for loop and list comprehension\n",
    "for divisor in range(2, number + 1):\n",
    "    # Check if 'divisor' is a factor and prime\n",
    "    if number % divisor == 0:\n",
    "        is_prime = True\n",
    "        for i in range(2, int(divisor ** 0.5) + 1):\n",
    "            if divisor % i == 0:\n",
    "                is_prime = False\n",
    "                break\n",
    "        if is_prime:\n",
    "            prime_factors.append(divisor)\n",
    "\n",
    "# Print the list of prime factors using a list comprehension\n",
    "print(\"Prime Factors:\", prime_factors)"
   ]
  },
  {
   "cell_type": "code",
   "execution_count": null,
   "id": "e00a78b3-b75b-4329-8042-a85f21d91588",
   "metadata": {},
   "outputs": [],
   "source": [
    "# Problem 23\n",
    "# Unique elements\n",
    "# Since it is NOT MENTIONED whether to NOT include element having duplicate entries, this is done in straight forward way"
   ]
  },
  {
   "cell_type": "code",
   "execution_count": null,
   "id": "dc1e13b0-8829-4db3-b039-0ab4c92965d2",
   "metadata": {},
   "outputs": [],
   "source": [
    "# Input a list of elements (with possible duplicates)\n",
    "input_list = [1, 2, 2, 3, 4, 4, 5, 5, 5]\n",
    "\n",
    "# Use a list comprehension to extract unique elements\n",
    "unique_elements = []\n",
    "\n",
    "[unique_elements.append(x) for x in input_list if x not in unique_elements]\n",
    "\n",
    "# Print the list of unique elements\n",
    "print(\"Unique Elements:\", unique_elements)"
   ]
  },
  {
   "cell_type": "code",
   "execution_count": null,
   "id": "0f476af6-8faa-4d99-b73b-58448db3b933",
   "metadata": {},
   "outputs": [],
   "source": [
    "# Problem 24\n",
    "# Palindromic numbers using list comprehension"
   ]
  },
  {
   "cell_type": "code",
   "execution_count": null,
   "id": "87cfb5f3-1942-46a0-81b7-81f2539066f9",
   "metadata": {},
   "outputs": [],
   "source": [
    "# Input the upper limit for palindromic numbers\n",
    "limit = int(input(\"Enter the upper limit: \"))\n",
    "\n",
    "# Use a list comprehension to generate palindromic numbers\n",
    "palindromic_numbers = [num for num in range(1, limit + 1) if str(num) == str(num)[::-1]]\n",
    "\n",
    "# Print the list of palindromic numbers\n",
    "print(\"Palindromic Numbers:\", palindromic_numbers)"
   ]
  },
  {
   "cell_type": "code",
   "execution_count": null,
   "id": "32314c89-e02b-491c-b9d4-3bc87b983ba2",
   "metadata": {},
   "outputs": [],
   "source": [
    "# Problem 25\n",
    "# Flatten nested list"
   ]
  },
  {
   "cell_type": "code",
   "execution_count": null,
   "id": "1c9f5c18-9dbe-4237-9a5b-dddeaf8f7fe1",
   "metadata": {},
   "outputs": [],
   "source": [
    "# Input a nested list\n",
    "nested_list = [[1, 2, 3], [4, 5], [6, 7, 8]]\n",
    "\n",
    "# Use list comprehension to flatten the nested list\n",
    "flattened_list = [element for sublist in nested_list for element in sublist]\n",
    "\n",
    "# Print the flattened list\n",
    "print(\"Flattened List:\", flattened_list)"
   ]
  },
  {
   "cell_type": "code",
   "execution_count": null,
   "id": "d19e6bc1-96f4-4e41-9aaf-a5af9c1c1022",
   "metadata": {},
   "outputs": [],
   "source": [
    "# Problem 26\n",
    "# Sum of even and odd using list comprehension"
   ]
  },
  {
   "cell_type": "code",
   "execution_count": null,
   "id": "6c477ca8-9b48-4c49-b375-0d6aaf045eec",
   "metadata": {},
   "outputs": [],
   "source": [
    "# Input a list of numbers\n",
    "number_list = [1, 2, 3, 4, 5, 6, 7, 8, 9]\n",
    "\n",
    "# Use list comprehension to compute the sum of even and odd numbers separately\n",
    "sum_even = sum([x for x in number_list if x % 2 == 0])\n",
    "sum_odd = sum([x for x in number_list if x % 2 != 0])\n",
    "\n",
    "# Print the sums of even and odd numbers separately\n",
    "print(\"Sum of Even Numbers:\", sum_even)\n",
    "print(\"Sum of Odd Numbers:\", sum_odd)"
   ]
  },
  {
   "cell_type": "code",
   "execution_count": 1,
   "id": "c6f722a5-f6fa-4fb0-8076-dd98c789fe65",
   "metadata": {},
   "outputs": [],
   "source": [
    "# Problem 27\n",
    "# List of squares of odd numbers"
   ]
  },
  {
   "cell_type": "code",
   "execution_count": null,
   "id": "ed7f051c-7e87-4a67-abdc-1d56aee7b929",
   "metadata": {},
   "outputs": [],
   "source": [
    "# Create a list comprehension to generate squares of odd numbers\n",
    "squares_of_odds = [x ** 2 for x in range(1, 11) if x % 2 != 0]\n",
    "\n",
    "# Print the list of squares\n",
    "print(squares_of_odds)"
   ]
  },
  {
   "cell_type": "code",
   "execution_count": 3,
   "id": "6695ac0d-15ca-4722-8dee-78362f4c43db",
   "metadata": {},
   "outputs": [],
   "source": [
    "# Problem 28\n",
    "# Converting two lists to dict"
   ]
  },
  {
   "cell_type": "code",
   "execution_count": null,
   "id": "79d7d09b-a449-4cfb-a4dc-8ea1717996bf",
   "metadata": {},
   "outputs": [],
   "source": [
    "# Two lists to combine into a dictionary\n",
    "keys = ['name', 'age', 'city']\n",
    "values = ['Alice', 25, 'New York']\n",
    "\n",
    "# Combine the lists into a dictionary using list comprehension\n",
    "dummy_dict = {keys[i]: values[i] for i in range(len(keys))}\n",
    "\n",
    "# Print the resulting dictionary\n",
    "print(dummy_dict)"
   ]
  },
  {
   "cell_type": "code",
   "execution_count": null,
   "id": "09618b51-2ba9-44b8-bbcd-7d938e2d6701",
   "metadata": {},
   "outputs": [],
   "source": [
    "# Problem 29\n",
    "# Extract vowels"
   ]
  },
  {
   "cell_type": "code",
   "execution_count": null,
   "id": "340e0da3-41be-424d-a4bf-7408aa64f347",
   "metadata": {},
   "outputs": [],
   "source": [
    "# Input string\n",
    "input_string = \"Hello, World!\"\n",
    "\n",
    "# Extract vowels using list comprehension\n",
    "vowels = [char for char in input_string if char.lower() in {'a','e','i','o','u'}]\n",
    "\n",
    "# Print the list of vowels\n",
    "print(vowels)\n"
   ]
  },
  {
   "cell_type": "code",
   "execution_count": 6,
   "id": "eb690b34-29f5-4c64-b6fe-784971bd14cb",
   "metadata": {},
   "outputs": [],
   "source": [
    "# Problem 30\n",
    "# Removing non-numeric characters"
   ]
  },
  {
   "cell_type": "code",
   "execution_count": null,
   "id": "02d16a78-a28b-450f-a68c-5046824b8a8d",
   "metadata": {},
   "outputs": [],
   "source": [
    "# List of strings containing both numeric and non-numeric characters\n",
    "string_list = ['abc123', '456xyz', '789', '12.34', '0.567']\n",
    "\n",
    "# Remove non-numeric characters using list comprehension\n",
    "numeric_strings = [''.join(char for char in s if char.isnumeric() or char == '.') for s in string_list]\n",
    "\n",
    "# Print the list of numeric strings\n",
    "print(numeric_strings)"
   ]
  },
  {
   "cell_type": "code",
   "execution_count": 8,
   "id": "755da90f-dc98-420f-b05e-d51850205d78",
   "metadata": {},
   "outputs": [],
   "source": [
    "# Problem 31\n",
    "# Prime numbers using Sieve of Eratosthenes"
   ]
  },
  {
   "cell_type": "code",
   "execution_count": null,
   "id": "51e07355-7df1-4fe9-86c3-433d1f31a80e",
   "metadata": {},
   "outputs": [],
   "source": [
    "# Define the upper limit for finding prime numbers\n",
    "limit = 50  # Change this limit to the desired value\n",
    "\n",
    "# Create a list of boolean values to represent prime numbers\n",
    "sieve = [True] * (limit + 1)\n",
    "\n",
    "# Set the initial values (0 and 1) to False, as they are not prime\n",
    "sieve[0] = sieve[1] = False\n",
    "\n",
    "# Implement the Sieve of Eratosthenes algorithm\n",
    "for num in range(2, int(limit**0.5) + 1):\n",
    "    if sieve[num]:\n",
    "        for multiple in range(num * num, limit + 1, num):\n",
    "            sieve[multiple] = False\n",
    "\n",
    "# Use list comprehension to extract prime numbers from the sieve\n",
    "prime_numbers = [num for num in range(2, limit + 1) if sieve[num]]\n",
    "\n",
    "# Print the list of prime numbers\n",
    "print(prime_numbers)"
   ]
  },
  {
   "cell_type": "code",
   "execution_count": 10,
   "id": "6e31c5e4-f865-4f50-856d-7d35fe41a6ed",
   "metadata": {},
   "outputs": [],
   "source": [
    "# Problem 32\n",
    "# Pythagorean triplets"
   ]
  },
  {
   "cell_type": "code",
   "execution_count": null,
   "id": "be0ecd27-959b-48ff-9526-e7550f06a6c2",
   "metadata": {},
   "outputs": [],
   "source": [
    "# Specify the upper limit for the triplets\n",
    "limit = 50  # Change this limit to the desired value\n",
    "\n",
    "# Initialize an empty list to store the Pythagorean triplets\n",
    "triplets = []\n",
    "\n",
    "# Loop through all possible values of a, b, and c\n",
    "for a in range(1, limit + 1):\n",
    "    for b in range(a, limit + 1):\n",
    "        c_squared = a**2 + b**2\n",
    "        c = c_squared**0.5  # Calculate the square root of c_squared\n",
    "        if c.is_integer() and c <= limit:\n",
    "            triplets.append((a, b, int(c)))\n",
    "\n",
    "# Print the list of Pythagorean triplets\n",
    "print(triplets)"
   ]
  },
  {
   "cell_type": "code",
   "execution_count": 12,
   "id": "66042249-3421-4b89-a7fe-4ce22a8830de",
   "metadata": {},
   "outputs": [],
   "source": [
    "# Problem 33\n",
    "# All combinations from given two lists"
   ]
  },
  {
   "cell_type": "code",
   "execution_count": null,
   "id": "f428903d-eebf-4549-9872-de19a7517d45",
   "metadata": {},
   "outputs": [],
   "source": [
    "# Two lists to generate combinations from\n",
    "list1 = [1, 2, 3]\n",
    "list2 = ['a', 'b', 'c']\n",
    "\n",
    "# Generate all possible combinations using list comprehension\n",
    "combinations = [(x, y) for x in list1 for y in list2]\n",
    "\n",
    "# Print the list of combinations\n",
    "print(combinations)"
   ]
  },
  {
   "cell_type": "code",
   "execution_count": 14,
   "id": "504b8929-5d31-450a-b6d0-80caf99f389c",
   "metadata": {},
   "outputs": [],
   "source": [
    "# Problem 34\n",
    "# Mean, median and mode"
   ]
  },
  {
   "cell_type": "code",
   "execution_count": null,
   "id": "02341a0b-495a-41e0-93ab-54ec6a704fab",
   "metadata": {},
   "outputs": [],
   "source": [
    "# List of numbers\n",
    "numbers = [1, 2, 3, 4, 5, 5, 6, 7, 8, 9]\n",
    "\n",
    "# Calculate the mean using list comprehension\n",
    "mean = sum(numbers) / len(numbers)\n",
    "\n",
    "# Calculate the median using list comprehension\n",
    "sorted_numbers = sorted(numbers)\n",
    "middle = len(sorted_numbers) // 2\n",
    "\n",
    "if len(sorted_numbers) % 2 == 0:\n",
    "    median = (sorted_numbers[middle - 1] + sorted_numbers[middle]) / 2\n",
    "else:\n",
    "    median = sorted_numbers[middle]\n",
    "\n",
    "# Calculate the mode using list comprehension\n",
    "count_dict = {x: sum(1 for num in numbers if num == x) for x in numbers}\n",
    "mode = [key for key, value in count_dict.items() if value == max(count_dict.values())]\n",
    "\n",
    "# Print the results\n",
    "print(f\"Mean: {mean}\")\n",
    "print(f\"Median: {median}\")\n",
    "print(f\"Mode: {mode}\")"
   ]
  },
  {
   "cell_type": "code",
   "execution_count": 16,
   "id": "a9775840-4057-49bf-97b1-84e95032ed67",
   "metadata": {},
   "outputs": [],
   "source": [
    "# Problem 35 - Pascal triangle"
   ]
  },
  {
   "cell_type": "code",
   "execution_count": null,
   "id": "6ddce86a-1455-4616-87af-3d98809dc177",
   "metadata": {},
   "outputs": [],
   "source": [
    "# Number of rows for Pascal's triangle\n",
    "num_rows = 5  # Change this to the desired number of rows\n",
    "\n",
    "# Initialize Pascal's triangle with the first row\n",
    "pascals_triangle = [[1]]\n",
    "\n",
    "# Generate Pascal's triangle\n",
    "for i in range(1, num_rows):\n",
    "    previous_row = pascals_triangle[-1]\n",
    "    new_row = [1]\n",
    "\n",
    "    for j in range(1, i):\n",
    "        new_element = previous_row[j - 1] + previous_row[j]\n",
    "        new_row.append(new_element)\n",
    "\n",
    "    new_row.append(1)\n",
    "    pascals_triangle.append(new_row)\n",
    "\n",
    "# Print Pascal's triangle\n",
    "for row in pascals_triangle:\n",
    "    print(row)"
   ]
  },
  {
   "cell_type": "code",
   "execution_count": 18,
   "id": "6792028b-204d-4b3a-a0fa-fef3ed9daa02",
   "metadata": {},
   "outputs": [],
   "source": [
    "# Problem 36\n",
    "# SUm of digits of factorial of number"
   ]
  },
  {
   "cell_type": "code",
   "execution_count": null,
   "id": "1b4d2e3c-40f7-4327-80e2-5df74d02060a",
   "metadata": {},
   "outputs": [],
   "source": [
    "# Function to calculate the factorial of a number\n",
    "def factorial(n):\n",
    "    if n == 0:\n",
    "        return 1\n",
    "    else:\n",
    "        return n * factorial(n - 1)\n",
    "\n",
    "# Calculate and print the sum of the digits of factorials from 1 to 5\n",
    "for num in range(1, 6):\n",
    "    fact = factorial(num)\n",
    "    digit_sum = sum(int(digit) for digit in str(fact))\n",
    "    print(f\"Factorial of {num} is {fact} and the sum of its digits is {digit_sum}\")"
   ]
  },
  {
   "cell_type": "code",
   "execution_count": 20,
   "id": "82af0562-10c3-4ee4-a641-a6aa6b116f77",
   "metadata": {},
   "outputs": [],
   "source": [
    "# Problem 37\n",
    "# Longest word in a sentence"
   ]
  },
  {
   "cell_type": "code",
   "execution_count": null,
   "id": "3a88613b-910a-4939-b739-f207a783ceee",
   "metadata": {},
   "outputs": [],
   "source": [
    "# Input sentence\n",
    "sentence = \"The quick brown fox jumps over the lazy dog Wahamgreen\"\n",
    "\n",
    "# Split the sentence into words\n",
    "words = sentence.split()\n",
    "\n",
    "# Find the longest word using list comprehension\n",
    "longest_word = [word for word in words if len(word) == max(len(w) for w in words)]\n",
    "\n",
    "# Print the longest word\n",
    "print(f\"The longest word in the sentence is: {','.join(longest_word)}\")"
   ]
  },
  {
   "cell_type": "code",
   "execution_count": 25,
   "id": "34556504-2794-4a75-952e-c882ce6bcc21",
   "metadata": {},
   "outputs": [],
   "source": [
    "# Problem 38\n",
    "# List of string with more than 3 vowels"
   ]
  },
  {
   "cell_type": "code",
   "execution_count": null,
   "id": "b0a3ec59-73c1-47a1-b00f-b5765bb02ff6",
   "metadata": {},
   "outputs": [],
   "source": [
    "# List of strings\n",
    "string_list = [\"education\", \"world\", \"apple\", \"beautiful\", \"cherry\", \"python\"]\n",
    "\n",
    "# Use list comprehension to filter strings with more than three vowels\n",
    "filtered_strings = [string for string in string_list if sum(1 for char in string if char.lower() in \"aeiou\") > 3]\n",
    "\n",
    "# Print the filtered list\n",
    "print(filtered_strings)"
   ]
  },
  {
   "cell_type": "code",
   "execution_count": null,
   "id": "081df4ba-9d5e-4361-a2fd-65cf7d75409d",
   "metadata": {},
   "outputs": [],
   "source": [
    "# Problem 39\n",
    "# Sum of digits of numbers from 1 to 1000"
   ]
  },
  {
   "cell_type": "code",
   "execution_count": null,
   "id": "2ae434fb-d2e1-4a1a-982d-8b654d48edf4",
   "metadata": {},
   "outputs": [],
   "source": [
    "# Use list comprehension to calculate the sum of digits for numbers from 1 to 1000\n",
    "digit_sums = [sum(int(digit) for digit in str(num)) for num in range(1, 1001)]\n",
    "\n",
    "# Calculate and print the total sum of digit sums\n",
    "total_sum = sum(digit_sums)\n",
    "\n",
    "# Print the total sum\n",
    "print(f\"The total sum of the digit sums from 1 to 1000 is: {total_sum}\")"
   ]
  },
  {
   "cell_type": "code",
   "execution_count": 37,
   "id": "f6c90afb-2ca3-426c-9771-d214b0c20556",
   "metadata": {},
   "outputs": [],
   "source": [
    "# Problem 40\n",
    "# Prime palindromic numbers"
   ]
  },
  {
   "cell_type": "code",
   "execution_count": null,
   "id": "c0bf0fd4-157d-4f36-911e-ff96470cdba2",
   "metadata": {},
   "outputs": [],
   "source": [
    "# Generate a list of prime palindromic numbers from 1 to 1000 using list comprehension\n",
    "prime_palindromic_numbers = [num for num in range(1, 1001) if num > 1 and all(num % i != 0 for i in range(2, int(num**0.5) + 1)) and str(num) == str(num)[::-1]]\n",
    "\n",
    "# Print the list of prime palindromic numbers\n",
    "print(prime_palindromic_numbers)"
   ]
  },
  {
   "cell_type": "code",
   "execution_count": null,
   "id": "088ef8e9-abbe-4f39-9592-7a7db7c8ca57",
   "metadata": {},
   "outputs": [],
   "source": []
  }
 ],
 "metadata": {
  "kernelspec": {
   "display_name": "Python 3 (ipykernel)",
   "language": "python",
   "name": "python3"
  },
  "language_info": {
   "codemirror_mode": {
    "name": "ipython",
    "version": 3
   },
   "file_extension": ".py",
   "mimetype": "text/x-python",
   "name": "python",
   "nbconvert_exporter": "python",
   "pygments_lexer": "ipython3",
   "version": "3.10.8"
  }
 },
 "nbformat": 4,
 "nbformat_minor": 5
}
