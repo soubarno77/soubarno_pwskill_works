{
 "cells": [
  {
   "cell_type": "code",
   "execution_count": 1,
   "id": "ecd15253-9d6f-44ec-ad36-203bce0764cc",
   "metadata": {},
   "outputs": [],
   "source": [
    "# Variables"
   ]
  },
  {
   "cell_type": "code",
   "execution_count": null,
   "id": "1980498e-087b-420d-b858-64495993b145",
   "metadata": {},
   "outputs": [],
   "source": [
    "# Problem statement 1 ---- Python basic variable- solution"
   ]
  },
  {
   "cell_type": "code",
   "execution_count": 17,
   "id": "cec8af9a-9991-4058-b2d7-b26fede622c0",
   "metadata": {},
   "outputs": [
    {
     "name": "stdout",
     "output_type": "stream",
     "text": [
      "Before swapping: value of num1 = -7 and value of num2 = 9\n",
      "After swapping: value of num1 = 9 and value of num2 = -7\n"
     ]
    }
   ],
   "source": [
    "# initializing two integer variables (value can be a positive/negative integer)\n",
    "num1 = -7\n",
    "num2 = 9\n",
    "print(f\"Before swapping: value of num1 = {num1} and value of num2 = {num2}\")\n",
    "\n",
    "# Swapping the values using arithmetic operations\n",
    "num1 = num1 + num2\n",
    "num2 = num1 - num2\n",
    "num1 = num1 - num2\n",
    "\n",
    "# Displaying the variables post swapping\n",
    "print(f\"After swapping: value of num1 = {num1} and value of num2 = {num2}\")"
   ]
  },
  {
   "cell_type": "code",
   "execution_count": null,
   "id": "045d70f2-013a-40aa-ab4d-c378bdf13e4f",
   "metadata": {},
   "outputs": [],
   "source": [
    "# Problem statement 2 - Area Of Rectangle"
   ]
  },
  {
   "cell_type": "code",
   "execution_count": 25,
   "id": "99ffc087-eb52-44b8-a28c-62927ef1b3c6",
   "metadata": {},
   "outputs": [
    {
     "name": "stdin",
     "output_type": "stream",
     "text": [
      "Please enter the length of the rectangle:  6\n",
      "Please enter the breadth of rectangle:  7\n"
     ]
    },
    {
     "name": "stdout",
     "output_type": "stream",
     "text": [
      "Area of the rectangle (length x breadth) = 42\n"
     ]
    }
   ],
   "source": [
    "''' \n",
    "For simplicity, currently considering only integer values as .isdigit() or .isnumeric()\n",
    "returns False when called on floating point numbers\n",
    "'''\n",
    "\n",
    "# getting the length from user as input\n",
    "length = input(\"Please enter the length of the rectangle: \").strip()\n",
    "\n",
    "# Validating the length, whether it is a valid integer or not\n",
    "if not length.isdigit():\n",
    "    print(\"You should enter a valid number for length\")\n",
    "# Length is a valid integer, proceed\n",
    "else:\n",
    "    # converting string to integer, as input() function returns string type\n",
    "    length = int(length)\n",
    "    \n",
    "    breadth = input(\"Please enter the breadth of rectangle: \").strip()\n",
    "\n",
    "    #Validating breadth, whether it is a valid integer or not\n",
    "    if not breadth.isdigit():\n",
    "        print(\"You should enter a valid number for breadth\")\n",
    "    # Breadth is a valid integer, proceed\n",
    "    else:\n",
    "        # converting string to integer, as input() function returns string type\n",
    "        breadth = int(breadth)\n",
    "        # displaying the area\n",
    "        print(f\"Area of the rectangle (length x breadth) = {length * breadth}\")\n"
   ]
  },
  {
   "cell_type": "code",
   "execution_count": null,
   "id": "577fea92-f8c4-4c50-b71c-a639b8834458",
   "metadata": {},
   "outputs": [],
   "source": [
    "# Problem statememt 3 - Celcius to Farenheit"
   ]
  },
  {
   "cell_type": "code",
   "execution_count": 31,
   "id": "d14d0753-917f-4dd3-91b6-92c508f3a041",
   "metadata": {},
   "outputs": [
    {
     "name": "stdin",
     "output_type": "stream",
     "text": [
      "Please enter the temperature in Celcius:  8u\n"
     ]
    },
    {
     "name": "stdout",
     "output_type": "stream",
     "text": [
      "Temperature entered - 8u is not in a valid integer format\n"
     ]
    }
   ],
   "source": [
    "'''\n",
    "   Validating whether thhe Celcius input was in proper numeric format will\n",
    "   be a bit complex when checking for floating points as .isnumeric() and .isdigit() \n",
    "   does not validate a floating point number....\n",
    "   That will require a try catch block to handle exception while converting from str to float as celcius can be either float/int\n",
    "   For simplicity as of now, keeping the user input as integer\n",
    "'''\n",
    "\n",
    "# Taking the celcius as input from user\n",
    "celcius = input(\"Please enter the temperature in Celcius: \").strip()\n",
    "\n",
    "# Validating whether input was in correct integer format\n",
    "if not celcius.isdigit():\n",
    "    print(f\"Temperature entered - {celcius} is not in a valid integer format\")\n",
    "else:\n",
    "    # Temperature is valid\n",
    "    # converting the data from string to integer\n",
    "    celcius = int(celcius)\n",
    "    fahrenheit = (celcius * 9/5) + 32\n",
    "    print(f\"Temperature in Celcius - {celcius}. Converted temperature in Fahrenheit - {fahrenheit}\")"
   ]
  },
  {
   "cell_type": "code",
   "execution_count": 32,
   "id": "3b22b0bb-2d78-45fc-be2d-7a7bebef6496",
   "metadata": {},
   "outputs": [],
   "source": [
    "# Strings"
   ]
  },
  {
   "cell_type": "code",
   "execution_count": null,
   "id": "3d5cce38-faaf-4ecd-9a2e-928385ba8c0a",
   "metadata": {},
   "outputs": [],
   "source": [
    "# Problem 1 - Print String Length"
   ]
  },
  {
   "cell_type": "code",
   "execution_count": 42,
   "id": "4dfc1872-07d5-43e4-b5b3-ca61ccd5c925",
   "metadata": {},
   "outputs": [
    {
     "name": "stdin",
     "output_type": "stream",
     "text": [
      "Enter anything by typing from keyboard -  \n"
     ]
    },
    {
     "name": "stdout",
     "output_type": "stream",
     "text": [
      "You have not typed anything and simply hit on enter!!. Length of entered string - 0\n"
     ]
    }
   ],
   "source": [
    "'''\n",
    "   1) This logic does not nullify whitespaces. Example- if we type spacebar from keyboard 5 times, \n",
    "   the length will be 5 due to 5 whitespaces entered. \n",
    "   \n",
    "   2) For empty input, length will be printed as 0\n",
    "   \n",
    "   3) For other type of inputs, the count will be printed as per input given\n",
    "'''\n",
    "\n",
    "# collecting the input from user\n",
    "str_data = input(\"Enter anything by typing from keyboard - \")\n",
    "\n",
    "# Getting the total length of the entered string\n",
    "str_data_len = len(str_data)\n",
    "\n",
    "if len(str_data.strip()) == 0 and str_data_len != 0:\n",
    "    # printing length of total white spaces entered\n",
    "    print(f\"Total number of whitespaces entered as input = {str(str_data_len)}\")\n",
    "\n",
    "elif str_data_len == 0:\n",
    "    # empty string entered\n",
    "    print(f\"You have not typed anything and simply hit on enter!!. Length of entered string - {str_data_len}\")\n",
    "\n",
    "else:\n",
    "    # printing the length of entered data as input\n",
    "    print(f\"Total length of the string entered as input = {str(len(str_data))}\")"
   ]
  },
  {
   "cell_type": "code",
   "execution_count": null,
   "id": "cd85802d-1f66-4715-a9e9-92db57cc2ff0",
   "metadata": {},
   "outputs": [],
   "source": [
    "# Problem 2 - Count vowels"
   ]
  },
  {
   "cell_type": "code",
   "execution_count": 48,
   "id": "2de8477e-272d-4c85-b6c4-e3884bbfa4ed",
   "metadata": {},
   "outputs": [
    {
     "name": "stdin",
     "output_type": "stream",
     "text": [
      "Please enter any sentence if your choice:  try jhvdswq ghklljm bvvfwq\n"
     ]
    },
    {
     "name": "stdout",
     "output_type": "stream",
     "text": [
      "No vowels were present in the sentence entered by you\n"
     ]
    }
   ],
   "source": [
    "# taking input from user\n",
    "sentence = input(\"Please enter any sentence if your choice: \").strip()\n",
    "\n",
    "# Getting the total length of entered sentence\n",
    "sent_len = len(sentence)\n",
    "\n",
    "if sent_len == 0:\n",
    "    # Invalid entry of input\n",
    "    print(\"You have not entered anything. Please write something having at least alphabets in them\")\n",
    "\n",
    "else:\n",
    "    # Valid entry, starting vowels count\n",
    "    # storing vowels from lphabets in a set\n",
    "    vowels = {'a','e','i','o','u'}\n",
    "    vow_count = 0\n",
    "    # looping through each letter and checking if vowel or not\n",
    "    for letter in sentence:\n",
    "        if letter.lower() in vowels:\n",
    "            vow_count += 1\n",
    "    \n",
    "    if vow_count == 0:\n",
    "        print(\"No vowels were present in the sentence entered by you\")\n",
    "    else:\n",
    "        print(f\"Total no of vowels found in the sentence entered by you = {str(vow_count)}\")"
   ]
  },
  {
   "cell_type": "code",
   "execution_count": null,
   "id": "133749d9-7219-4dc7-b16d-26e2b7f72ad7",
   "metadata": {},
   "outputs": [],
   "source": [
    "# Problem 3 - Printing reversed string using slicing"
   ]
  },
  {
   "cell_type": "code",
   "execution_count": 55,
   "id": "9c4c76d9-0662-4806-877b-025302e767d0",
   "metadata": {},
   "outputs": [
    {
     "name": "stdin",
     "output_type": "stream",
     "text": [
      "Enter anything:  twilight\n",
      "Enter P for positive index slicing, N for negative index slicing, or enter anything for empty-index slicing:  K\n"
     ]
    },
    {
     "name": "stdout",
     "output_type": "stream",
     "text": [
      "Reversed string using empty index slicing - thgiliwt\n"
     ]
    }
   ],
   "source": [
    "# Collecting string from user as input, removing any trailing/leading whitespaces\n",
    "str_data = input(\"Enter anything: \").strip()\n",
    "\n",
    "str_data_len = len(str_data)\n",
    "# Validating if something is there\n",
    "if str_data_len == 0:\n",
    "    print(\"You must enter something\")\n",
    "\n",
    "else:\n",
    "    # Valid string\n",
    "    # Collecting input on how to perform reverse\n",
    "    str_method = input(\"Enter P for positive index slicing, N for negative index slicing, or enter anything for empty-index slicing: \").strip().upper()\n",
    "    \n",
    "    if str_method == 'P':\n",
    "        print(f\"Reversed string using positive index slicing - {str_data[str_data_len - 1: -(str_data_len + 1): -1]}\")\n",
    "    elif str_method == 'N':\n",
    "        print(f\"Reversed string using negative index slicing - {str_data[-1: -(str_data_len + 1): -1]}\")\n",
    "    else:\n",
    "        print(f\"Reversed string using empty index slicing - {str_data[::-1]}\")"
   ]
  },
  {
   "cell_type": "code",
   "execution_count": null,
   "id": "ac62c274-f655-4c74-88a0-27c1ae2b726e",
   "metadata": {},
   "outputs": [],
   "source": [
    "# Problem 4 - Palindrome string"
   ]
  },
  {
   "cell_type": "code",
   "execution_count": 60,
   "id": "b40723c4-1da6-4cab-8123-91fa1339473c",
   "metadata": {},
   "outputs": [
    {
     "name": "stdin",
     "output_type": "stream",
     "text": [
      "Enter anything -  refer\n"
     ]
    },
    {
     "name": "stdout",
     "output_type": "stream",
     "text": [
      "Given string refer is palindrome\n"
     ]
    }
   ],
   "source": [
    "# Taking user input\n",
    "data = input(\"Enter anything - \").strip()\n",
    "\n",
    "if len(data) == 0:\n",
    "    print('You must enter something in input, cannot leave blank')\n",
    "else:\n",
    "    # Valid data, now checking for palindrome\n",
    "    # Should be the same string if reversed\n",
    "    if data == data[::-1]:\n",
    "        print('Given string {} is palindrome'.format(data))\n",
    "    else:\n",
    "        print('Given string {} is not a palindrome'.format(data))"
   ]
  },
  {
   "cell_type": "code",
   "execution_count": null,
   "id": "55d29e94-f45d-4eee-bb53-216d1ebf2550",
   "metadata": {},
   "outputs": [],
   "source": [
    "# Problem 5 - Remove all spaces from string"
   ]
  },
  {
   "cell_type": "code",
   "execution_count": 63,
   "id": "5c6fd76f-232b-4a69-b75d-8a0567749b39",
   "metadata": {},
   "outputs": [
    {
     "name": "stdin",
     "output_type": "stream",
     "text": [
      "Enter anything:  thisisgoinggreat!\n"
     ]
    },
    {
     "name": "stdout",
     "output_type": "stream",
     "text": [
      "Nothing was modified. Try adding some spaces in your input to see the results!\n"
     ]
    }
   ],
   "source": [
    "'''\n",
    "   This will remove all white spaces from everywhere in the string using the \n",
    "   .replace() function\n",
    "'''\n",
    "\n",
    "# Taking user input, removing any trailing/leading white spaces\n",
    "data = input('Enter anything: ').strip()\n",
    "\n",
    "# Removing all spaces from the entered data with empty string\n",
    "updated_data = data.replace(\" \",\"\")\n",
    "\n",
    "# checking if data is same as original after modifying\n",
    "if updated_data == data:\n",
    "    print('Nothing was modified. Try adding some spaces in your input to see the results!')\n",
    "\n",
    "else:\n",
    "    # printing the modified data\n",
    "    print('Modified user input without spaces - {}'.format(updated_data))"
   ]
  },
  {
   "cell_type": "code",
   "execution_count": null,
   "id": "24eba2a9-8379-4853-8230-485f764dd922",
   "metadata": {},
   "outputs": [],
   "source": []
  }
 ],
 "metadata": {
  "kernelspec": {
   "display_name": "Python 3 (ipykernel)",
   "language": "python",
   "name": "python3"
  },
  "language_info": {
   "codemirror_mode": {
    "name": "ipython",
    "version": 3
   },
   "file_extension": ".py",
   "mimetype": "text/x-python",
   "name": "python",
   "nbconvert_exporter": "python",
   "pygments_lexer": "ipython3",
   "version": "3.10.8"
  }
 },
 "nbformat": 4,
 "nbformat_minor": 5
}
